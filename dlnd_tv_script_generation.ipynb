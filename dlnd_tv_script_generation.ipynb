{
 "cells": [
  {
   "cell_type": "markdown",
   "metadata": {},
   "source": [
    "# TV Script Generation\n",
    "In this project, you'll generate your own [Simpsons](https://en.wikipedia.org/wiki/The_Simpsons) TV scripts using RNNs.  You'll be using part of the [Simpsons dataset](https://www.kaggle.com/wcukierski/the-simpsons-by-the-data) of scripts from 27 seasons.  The Neural Network you'll build will generate a new TV script for a scene at [Moe's Tavern](https://simpsonswiki.com/wiki/Moe's_Tavern).\n",
    "## Get the Data\n",
    "The data is already provided for you.  You'll be using a subset of the original dataset.  It consists of only the scenes in Moe's Tavern.  This doesn't include other versions of the tavern, like \"Moe's Cavern\", \"Flaming Moe's\", \"Uncle Moe's Family Feed-Bag\", etc.."
   ]
  },
  {
   "cell_type": "code",
   "execution_count": 1,
   "metadata": {
    "collapsed": true
   },
   "outputs": [],
   "source": [
    "\"\"\"\n",
    "DON'T MODIFY ANYTHING IN THIS CELL\n",
    "\"\"\"\n",
    "import helper\n",
    "\n",
    "data_dir = './data/simpsons/moes_tavern_lines.txt'\n",
    "text = helper.load_data(data_dir)\n",
    "# Ignore notice, since we don't use it for analysing the data\n",
    "text = text[81:]"
   ]
  },
  {
   "cell_type": "markdown",
   "metadata": {},
   "source": [
    "## Explore the Data\n",
    "Play around with `view_sentence_range` to view different parts of the data."
   ]
  },
  {
   "cell_type": "code",
   "execution_count": 2,
   "metadata": {},
   "outputs": [
    {
     "name": "stdout",
     "output_type": "stream",
     "text": [
      "Dataset Stats\n",
      "Roughly the number of unique words: 11492\n",
      "Number of scenes: 262\n",
      "Average number of sentences in each scene: 15.248091603053435\n",
      "Number of lines: 4257\n",
      "Average number of words in each line: 11.50434578341555\n",
      "\n",
      "The sentences 0 to 10:\n",
      "Moe_Szyslak: (INTO PHONE) Moe's Tavern. Where the elite meet to drink.\n",
      "Bart_Simpson: Eh, yeah, hello, is Mike there? Last name, Rotch.\n",
      "Moe_Szyslak: (INTO PHONE) Hold on, I'll check. (TO BARFLIES) Mike Rotch. Mike Rotch. Hey, has anybody seen Mike Rotch, lately?\n",
      "Moe_Szyslak: (INTO PHONE) Listen you little puke. One of these days I'm gonna catch you, and I'm gonna carve my name on your back with an ice pick.\n",
      "Moe_Szyslak: What's the matter Homer? You're not your normal effervescent self.\n",
      "Homer_Simpson: I got my problems, Moe. Give me another one.\n",
      "Moe_Szyslak: Homer, hey, you should not drink to forget your problems.\n",
      "Barney_Gumble: Yeah, you should only drink to enhance your social skills.\n",
      "\n",
      "\n"
     ]
    }
   ],
   "source": [
    "view_sentence_range = (0, 10)\n",
    "\n",
    "\"\"\"\n",
    "DON'T MODIFY ANYTHING IN THIS CELL\n",
    "\"\"\"\n",
    "import numpy as np\n",
    "\n",
    "print('Dataset Stats')\n",
    "print('Roughly the number of unique words: {}'.format(len({word: None for word in text.split()})))\n",
    "scenes = text.split('\\n\\n')\n",
    "print('Number of scenes: {}'.format(len(scenes)))\n",
    "sentence_count_scene = [scene.count('\\n') for scene in scenes]\n",
    "print('Average number of sentences in each scene: {}'.format(np.average(sentence_count_scene)))\n",
    "\n",
    "sentences = [sentence for scene in scenes for sentence in scene.split('\\n')]\n",
    "print('Number of lines: {}'.format(len(sentences)))\n",
    "word_count_sentence = [len(sentence.split()) for sentence in sentences]\n",
    "print('Average number of words in each line: {}'.format(np.average(word_count_sentence)))\n",
    "\n",
    "print()\n",
    "print('The sentences {} to {}:'.format(*view_sentence_range))\n",
    "print('\\n'.join(text.split('\\n')[view_sentence_range[0]:view_sentence_range[1]]))"
   ]
  },
  {
   "cell_type": "markdown",
   "metadata": {},
   "source": [
    "## Implement Preprocessing Functions\n",
    "The first thing to do to any dataset is preprocessing.  Implement the following preprocessing functions below:\n",
    "- Lookup Table\n",
    "- Tokenize Punctuation\n",
    "\n",
    "### Lookup Table\n",
    "To create a word embedding, you first need to transform the words to ids.  In this function, create two dictionaries:\n",
    "- Dictionary to go from the words to an id, we'll call `vocab_to_int`\n",
    "- Dictionary to go from the id to word, we'll call `int_to_vocab`\n",
    "\n",
    "Return these dictionaries in the following tuple `(vocab_to_int, int_to_vocab)`"
   ]
  },
  {
   "cell_type": "code",
   "execution_count": 4,
   "metadata": {},
   "outputs": [
    {
     "name": "stdout",
     "output_type": "stream",
     "text": [
      "Tests Passed\n"
     ]
    }
   ],
   "source": [
    "import numpy as np\n",
    "import problem_unittests as tests\n",
    "\n",
    "def create_lookup_tables(text):\n",
    "    \"\"\"\n",
    "    Create lookup tables for vocabulary\n",
    "    :param text: The text of tv scripts split into words\n",
    "    :return: A tuple of dicts (vocab_to_int, int_to_vocab)\n",
    "    \"\"\"\n",
    "    # TODO: Implement Function\n",
    "    vocab_to_int = {}\n",
    "    int_to_vocab = {}\n",
    "    unique = []\n",
    "    [unique.append(item) for item in text if item not in unique]\n",
    "    \n",
    "    for index, word in enumerate(unique):\n",
    "        vocab_to_int[word] = index\n",
    "        int_to_vocab[index] = word\n",
    "\n",
    "    return vocab_to_int, int_to_vocab\n",
    "\n",
    "\"\"\"\n",
    "DON'T MODIFY ANYTHING IN THIS CELL THAT IS BELOW THIS LINE\n",
    "\"\"\"\n",
    "tests.test_create_lookup_tables(create_lookup_tables)"
   ]
  },
  {
   "cell_type": "markdown",
   "metadata": {},
   "source": [
    "### Tokenize Punctuation\n",
    "We'll be splitting the script into a word array using spaces as delimiters.  However, punctuations like periods and exclamation marks make it hard for the neural network to distinguish between the word \"bye\" and \"bye!\".\n",
    "\n",
    "Implement the function `token_lookup` to return a dict that will be used to tokenize symbols like \"!\" into \"||Exclamation_Mark||\".  Create a dictionary for the following symbols where the symbol is the key and value is the token:\n",
    "- Period ( . )\n",
    "- Comma ( , )\n",
    "- Quotation Mark ( \" )\n",
    "- Semicolon ( ; )\n",
    "- Exclamation mark ( ! )\n",
    "- Question mark ( ? )\n",
    "- Left Parentheses ( ( )\n",
    "- Right Parentheses ( ) )\n",
    "- Dash ( -- )\n",
    "- Return ( \\n )\n",
    "\n",
    "This dictionary will be used to token the symbols and add the delimiter (space) around it.  This separates the symbols as it's own word, making it easier for the neural network to predict on the next word. Make sure you don't use a token that could be confused as a word. Instead of using the token \"dash\", try using something like \"||dash||\"."
   ]
  },
  {
   "cell_type": "code",
   "execution_count": 5,
   "metadata": {},
   "outputs": [
    {
     "name": "stdout",
     "output_type": "stream",
     "text": [
      "Tests Passed\n"
     ]
    }
   ],
   "source": [
    "def token_lookup():\n",
    "    \"\"\"\n",
    "    Generate a dict to turn punctuation into a token.\n",
    "    :return: Tokenize dictionary where the key is the punctuation and the value is the token\n",
    "    \"\"\"\n",
    "    # TODO: Implement Function\n",
    "    return {\n",
    "        \".\": \"||Period||\",\n",
    "        \",\": \"||Comma||\",\n",
    "        '\"': \"||Quotation||\",\n",
    "        \";\": \"||Semicolon||\",\n",
    "        \"!\": \"||Exclamation||\",\n",
    "        \"?\": \"||Question||\",\n",
    "        \"(\": \"||Left||\",\n",
    "        \")\": \"||Right||\",\n",
    "        \"--\": \"||Dash||\",\n",
    "        \"\\n\": \"||Return||\"\n",
    "    }\n",
    "\n",
    "\"\"\"\n",
    "DON'T MODIFY ANYTHING IN THIS CELL THAT IS BELOW THIS LINE\n",
    "\"\"\"\n",
    "tests.test_tokenize(token_lookup)"
   ]
  },
  {
   "cell_type": "markdown",
   "metadata": {},
   "source": [
    "## Preprocess all the data and save it\n",
    "Running the code cell below will preprocess all the data and save it to file."
   ]
  },
  {
   "cell_type": "code",
   "execution_count": 6,
   "metadata": {
    "collapsed": true
   },
   "outputs": [],
   "source": [
    "\"\"\"\n",
    "DON'T MODIFY ANYTHING IN THIS CELL\n",
    "\"\"\"\n",
    "# Preprocess Training, Validation, and Testing Data\n",
    "helper.preprocess_and_save_data(data_dir, token_lookup, create_lookup_tables)"
   ]
  },
  {
   "cell_type": "markdown",
   "metadata": {},
   "source": [
    "# Check Point\n",
    "This is your first checkpoint. If you ever decide to come back to this notebook or have to restart the notebook, you can start from here. The preprocessed data has been saved to disk."
   ]
  },
  {
   "cell_type": "code",
   "execution_count": 7,
   "metadata": {
    "collapsed": true
   },
   "outputs": [],
   "source": [
    "\"\"\"\n",
    "DON'T MODIFY ANYTHING IN THIS CELL\n",
    "\"\"\"\n",
    "import helper\n",
    "import numpy as np\n",
    "import problem_unittests as tests\n",
    "\n",
    "int_text, vocab_to_int, int_to_vocab, token_dict = helper.load_preprocess()"
   ]
  },
  {
   "cell_type": "markdown",
   "metadata": {},
   "source": [
    "## Build the Neural Network\n",
    "You'll build the components necessary to build a RNN by implementing the following functions below:\n",
    "- get_inputs\n",
    "- get_init_cell\n",
    "- get_embed\n",
    "- build_rnn\n",
    "- build_nn\n",
    "- get_batches\n",
    "\n",
    "### Check the Version of TensorFlow and Access to GPU"
   ]
  },
  {
   "cell_type": "code",
   "execution_count": 8,
   "metadata": {},
   "outputs": [
    {
     "name": "stdout",
     "output_type": "stream",
     "text": [
      "TensorFlow Version: 1.1.0\n",
      "Default GPU Device: /gpu:0\n"
     ]
    }
   ],
   "source": [
    "\"\"\"\n",
    "DON'T MODIFY ANYTHING IN THIS CELL\n",
    "\"\"\"\n",
    "from distutils.version import LooseVersion\n",
    "import warnings\n",
    "import tensorflow as tf\n",
    "\n",
    "# Check TensorFlow Version\n",
    "assert LooseVersion(tf.__version__) >= LooseVersion('1.0'), 'Please use TensorFlow version 1.0 or newer'\n",
    "print('TensorFlow Version: {}'.format(tf.__version__))\n",
    "\n",
    "# Check for a GPU\n",
    "if not tf.test.gpu_device_name():\n",
    "    warnings.warn('No GPU found. Please use a GPU to train your neural network.')\n",
    "else:\n",
    "    print('Default GPU Device: {}'.format(tf.test.gpu_device_name()))"
   ]
  },
  {
   "cell_type": "markdown",
   "metadata": {},
   "source": [
    "### Input\n",
    "Implement the `get_inputs()` function to create TF Placeholders for the Neural Network.  It should create the following placeholders:\n",
    "- Input text placeholder named \"input\" using the [TF Placeholder](https://www.tensorflow.org/api_docs/python/tf/placeholder) `name` parameter.\n",
    "- Targets placeholder\n",
    "- Learning Rate placeholder\n",
    "\n",
    "Return the placeholders in the following tuple `(Input, Targets, LearningRate)`"
   ]
  },
  {
   "cell_type": "code",
   "execution_count": 9,
   "metadata": {},
   "outputs": [
    {
     "name": "stdout",
     "output_type": "stream",
     "text": [
      "Tests Passed\n"
     ]
    }
   ],
   "source": [
    "def get_inputs():\n",
    "    \"\"\"\n",
    "    Create TF Placeholders for input, targets, and learning rate.\n",
    "    :return: Tuple (input, targets, learning rate)\n",
    "    \"\"\"\n",
    "    # TODO: Implement Function\n",
    "    Input = tf.placeholder(tf.int32, [None, None], \"input\")\n",
    "    Targets = tf.placeholder(tf.int32, [None, None], \"targets\")\n",
    "    Rate = tf.placeholder(tf.float32, name=\"learning_rate\")\n",
    "    \n",
    "    return Input, Targets, Rate\n",
    "\n",
    "\n",
    "\"\"\"\n",
    "DON'T MODIFY ANYTHING IN THIS CELL THAT IS BELOW THIS LINE\n",
    "\"\"\"\n",
    "tests.test_get_inputs(get_inputs)"
   ]
  },
  {
   "cell_type": "markdown",
   "metadata": {},
   "source": [
    "### Build RNN Cell and Initialize\n",
    "Stack one or more [`BasicLSTMCells`](https://www.tensorflow.org/api_docs/python/tf/contrib/rnn/BasicLSTMCell) in a [`MultiRNNCell`](https://www.tensorflow.org/api_docs/python/tf/contrib/rnn/MultiRNNCell).\n",
    "- The Rnn size should be set using `rnn_size`\n",
    "- Initalize Cell State using the MultiRNNCell's [`zero_state()`](https://www.tensorflow.org/api_docs/python/tf/contrib/rnn/MultiRNNCell#zero_state) function\n",
    "    - Apply the name \"initial_state\" to the initial state using [`tf.identity()`](https://www.tensorflow.org/api_docs/python/tf/identity)\n",
    "\n",
    "Return the cell and initial state in the following tuple `(Cell, InitialState)`"
   ]
  },
  {
   "cell_type": "code",
   "execution_count": 10,
   "metadata": {},
   "outputs": [
    {
     "name": "stdout",
     "output_type": "stream",
     "text": [
      "Tests Passed\n"
     ]
    }
   ],
   "source": [
    "def get_init_cell(batch_size, rnn_size):\n",
    "    \"\"\"\n",
    "    Create an RNN Cell and initialize it.\n",
    "    :param batch_size: Size of batches\n",
    "    :param rnn_size: Size of RNNs\n",
    "    :return: Tuple (cell, initialize state)\n",
    "    \"\"\"\n",
    "    cell = tf.contrib.rnn.BasicLSTMCell(rnn_size)\n",
    "    cell = tf.contrib.rnn.MultiRNNCell([cell] * 1)\n",
    "    initial_state = cell.zero_state(batch_size, tf.float32)\n",
    "    initial_state = tf.identity(initial_state, name= \"initial_state\")\n",
    "    return (cell, initial_state)\n",
    "\n",
    "\n",
    "\"\"\"\n",
    "DON'T MODIFY ANYTHING IN THIS CELL THAT IS BELOW THIS LINE\n",
    "\"\"\"\n",
    "tests.test_get_init_cell(get_init_cell)"
   ]
  },
  {
   "cell_type": "markdown",
   "metadata": {},
   "source": [
    "### Word Embedding\n",
    "Apply embedding to `input_data` using TensorFlow.  Return the embedded sequence."
   ]
  },
  {
   "cell_type": "code",
   "execution_count": 11,
   "metadata": {},
   "outputs": [
    {
     "name": "stdout",
     "output_type": "stream",
     "text": [
      "Tests Passed\n"
     ]
    }
   ],
   "source": [
    "def get_embed(input_data, vocab_size, embed_dim):\n",
    "    \"\"\"\n",
    "    Create embedding for <input_data>.\n",
    "    :param input_data: TF placeholder for text input.\n",
    "    :param vocab_size: Number of words in vocabulary.\n",
    "    :param embed_dim: Number of embedding dimensions\n",
    "    :return: Embedded input.\n",
    "    \"\"\"\n",
    "    # TODO: Implement Function\n",
    "    return tf.contrib.layers.embed_sequence(input_data, vocab_size, embed_dim)\n",
    "\n",
    "\n",
    "\"\"\"\n",
    "DON'T MODIFY ANYTHING IN THIS CELL THAT IS BELOW THIS LINE\n",
    "\"\"\"\n",
    "tests.test_get_embed(get_embed)"
   ]
  },
  {
   "cell_type": "markdown",
   "metadata": {},
   "source": [
    "### Build RNN\n",
    "You created a RNN Cell in the `get_init_cell()` function.  Time to use the cell to create a RNN.\n",
    "- Build the RNN using the [`tf.nn.dynamic_rnn()`](https://www.tensorflow.org/api_docs/python/tf/nn/dynamic_rnn)\n",
    " - Apply the name \"final_state\" to the final state using [`tf.identity()`](https://www.tensorflow.org/api_docs/python/tf/identity)\n",
    "\n",
    "Return the outputs and final_state state in the following tuple `(Outputs, FinalState)` "
   ]
  },
  {
   "cell_type": "code",
   "execution_count": 15,
   "metadata": {},
   "outputs": [
    {
     "name": "stdout",
     "output_type": "stream",
     "text": [
      "Tests Passed\n"
     ]
    }
   ],
   "source": [
    "def build_rnn(cell, inputs):\n",
    "    \"\"\"\n",
    "    Create a RNN using a RNN Cell\n",
    "    :param cell: RNN Cell\n",
    "    :param inputs: Input text data\n",
    "    :return: Tuple (Outputs, Final State)\n",
    "    \"\"\"\n",
    "    # TODO: Implement Function\n",
    "    Outputs, FinalState = tf.nn.dynamic_rnn(cell, inputs, dtype=tf.float32)\n",
    "    return (Outputs, tf.identity(FinalState, \"final_state\"))\n",
    "\n",
    "\"\"\"\n",
    "DON'T MODIFY ANYTHING IN THIS CELL THAT IS BELOW THIS LINE\n",
    "\"\"\"\n",
    "tests.test_build_rnn(build_rnn)"
   ]
  },
  {
   "cell_type": "markdown",
   "metadata": {},
   "source": [
    "### Build the Neural Network\n",
    "Apply the functions you implemented above to:\n",
    "- Apply embedding to `input_data` using your `get_embed(input_data, vocab_size, embed_dim)` function.\n",
    "- Build RNN using `cell` and your `build_rnn(cell, inputs)` function.\n",
    "- Apply a fully connected layer with a linear activation and `vocab_size` as the number of outputs.\n",
    "\n",
    "Return the logits and final state in the following tuple (Logits, FinalState) "
   ]
  },
  {
   "cell_type": "code",
   "execution_count": 16,
   "metadata": {},
   "outputs": [
    {
     "name": "stdout",
     "output_type": "stream",
     "text": [
      "Tests Passed\n"
     ]
    }
   ],
   "source": [
    "def build_nn(cell, rnn_size, input_data, vocab_size, embed_dim):\n",
    "    \"\"\"\n",
    "    Build part of the neural network\n",
    "    :param cell: RNN cell\n",
    "    :param rnn_size: Size of rnns\n",
    "    :param input_data: Input data\n",
    "    :param vocab_size: Vocabulary size\n",
    "    :param embed_dim: Number of embedding dimensions\n",
    "    :return: Tuple (Logits, FinalState)\n",
    "    \"\"\"\n",
    "    # TODO: Implement Function\n",
    "    inputs = get_embed(input_data, vocab_size, embed_dim)\n",
    "    inputs, final_state = build_rnn(cell, inputs)\n",
    "    Logits = tf.contrib.layers.fully_connected(inputs, vocab_size, activation_fn=None)\n",
    "    return Logits, final_state\n",
    "\n",
    "\n",
    "\"\"\"\n",
    "DON'T MODIFY ANYTHING IN THIS CELL THAT IS BELOW THIS LINE\n",
    "\"\"\"\n",
    "tests.test_build_nn(build_nn)"
   ]
  },
  {
   "cell_type": "markdown",
   "metadata": {},
   "source": [
    "### Batches\n",
    "Implement `get_batches` to create batches of input and targets using `int_text`.  The batches should be a Numpy array with the shape `(number of batches, 2, batch size, sequence length)`. Each batch contains two elements:\n",
    "- The first element is a single batch of **input** with the shape `[batch size, sequence length]`\n",
    "- The second element is a single batch of **targets** with the shape `[batch size, sequence length]`\n",
    "\n",
    "If you can't fill the last batch with enough data, drop the last batch.\n",
    "\n",
    "For exmple, `get_batches([1, 2, 3, 4, 5, 6, 7, 8, 9, 10, 11, 12, 13, 14, 15, 16, 17, 18, 19, 20], 3, 2)` would return a Numpy array of the following:\n",
    "```\n",
    "[\n",
    "  # First Batch\n",
    "  [\n",
    "    # Batch of Input\n",
    "    [[ 1  2], [ 7  8], [13 14]]\n",
    "    # Batch of targets\n",
    "    [[ 2  3], [ 8  9], [14 15]]\n",
    "  ]\n",
    "\n",
    "  # Second Batch\n",
    "  [\n",
    "    # Batch of Input\n",
    "    [[ 3  4], [ 9 10], [15 16]]\n",
    "    # Batch of targets\n",
    "    [[ 4  5], [10 11], [16 17]]\n",
    "  ]\n",
    "\n",
    "  # Third Batch\n",
    "  [\n",
    "    # Batch of Input\n",
    "    [[ 5  6], [11 12], [17 18]]\n",
    "    # Batch of targets\n",
    "    [[ 6  7], [12 13], [18  1]]\n",
    "  ]\n",
    "]\n",
    "```\n",
    "\n",
    "Notice that the last target value in the last batch is the first input value of the first batch. In this case, `1`. This is a common technique used when creating sequence batches, although it is rather unintuitive."
   ]
  },
  {
   "cell_type": "code",
   "execution_count": 17,
   "metadata": {},
   "outputs": [
    {
     "name": "stdout",
     "output_type": "stream",
     "text": [
      "Tests Passed\n"
     ]
    }
   ],
   "source": [
    "def get_batches(int_text, batch_size, seq_length):\n",
    "    \"\"\"\n",
    "    Return batches of input and target\n",
    "    :param int_text: Text with the words replaced by their ids\n",
    "    :param batch_size: The size of batch\n",
    "    :param seq_length: The length of sequence\n",
    "    :return: Batches as a Numpy array\n",
    "    \"\"\"\n",
    "    num_batches = len(int_text) // (batch_size * seq_length)\n",
    "    int_text[num_batches*batch_size*seq_length] = int_text[0]\n",
    "    #print(num_batches)\n",
    "    batches = np.zeros([num_batches, 2, batch_size, seq_length], dtype=np.int32)\n",
    "    for idx in range(0, len(int_text), seq_length):\n",
    "        #print(id)\n",
    "        batch_no = (idx // seq_length) % num_batches\n",
    "        batch_idx = idx // (seq_length * num_batches)\n",
    "        if (batch_idx == batch_size):\n",
    "            break\n",
    "        batches[batch_no, 0, batch_idx, ] = int_text[idx:idx + seq_length]\n",
    "        batches[batch_no, 1, batch_idx, ] = int_text[idx + 1:idx + seq_length + 1]\n",
    "    #print(batches)\n",
    "    return batches\n",
    "\n",
    "\n",
    "\n",
    "\"\"\"\n",
    "DON'T MODIFY ANYTHING IN THIS CELL THAT IS BELOW THIS LINE\n",
    "\"\"\"\n",
    "tests.test_get_batches(get_batches)"
   ]
  },
  {
   "cell_type": "markdown",
   "metadata": {},
   "source": [
    "## Neural Network Training\n",
    "### Hyperparameters\n",
    "Tune the following parameters:\n",
    "\n",
    "- Set `num_epochs` to the number of epochs.\n",
    "- Set `batch_size` to the batch size.\n",
    "- Set `rnn_size` to the size of the RNNs.\n",
    "- Set `embed_dim` to the size of the embedding.\n",
    "- Set `seq_length` to the length of sequence.\n",
    "- Set `learning_rate` to the learning rate.\n",
    "- Set `show_every_n_batches` to the number of batches the neural network should print progress."
   ]
  },
  {
   "cell_type": "code",
   "execution_count": 18,
   "metadata": {
    "collapsed": true
   },
   "outputs": [],
   "source": [
    "# Number of Epochs\n",
    "num_epochs = 115\n",
    "# Batch Size\n",
    "batch_size = 128\n",
    "# RNN Size\n",
    "rnn_size = 256\n",
    "# Embedding Dimension Size\n",
    "embed_dim = 2000\n",
    "# Sequence Length\n",
    "seq_length = 60\n",
    "# Learning Rate\n",
    "learning_rate = .01\n",
    "# Show stats for every n number of batches\n",
    "show_every_n_batches = 20\n",
    "\n",
    "\"\"\"\n",
    "DON'T MODIFY ANYTHING IN THIS CELL THAT IS BELOW THIS LINE\n",
    "\"\"\"\n",
    "save_dir = './save'"
   ]
  },
  {
   "cell_type": "markdown",
   "metadata": {},
   "source": [
    "### Build the Graph\n",
    "Build the graph using the neural network you implemented."
   ]
  },
  {
   "cell_type": "code",
   "execution_count": 19,
   "metadata": {
    "collapsed": true
   },
   "outputs": [],
   "source": [
    "\"\"\"\n",
    "DON'T MODIFY ANYTHING IN THIS CELL\n",
    "\"\"\"\n",
    "from tensorflow.contrib import seq2seq\n",
    "\n",
    "train_graph = tf.Graph()\n",
    "with train_graph.as_default():\n",
    "    vocab_size = len(int_to_vocab)\n",
    "    input_text, targets, lr = get_inputs()\n",
    "    input_data_shape = tf.shape(input_text)\n",
    "    cell, initial_state = get_init_cell(input_data_shape[0], rnn_size)\n",
    "    logits, final_state = build_nn(cell, rnn_size, input_text, vocab_size, embed_dim)\n",
    "\n",
    "    # Probabilities for generating words\n",
    "    probs = tf.nn.softmax(logits, name='probs')\n",
    "\n",
    "    # Loss function\n",
    "    cost = seq2seq.sequence_loss(\n",
    "        logits,\n",
    "        targets,\n",
    "        tf.ones([input_data_shape[0], input_data_shape[1]]))\n",
    "\n",
    "    # Optimizer\n",
    "    optimizer = tf.train.AdamOptimizer(lr)\n",
    "\n",
    "    # Gradient Clipping\n",
    "    gradients = optimizer.compute_gradients(cost)\n",
    "    capped_gradients = [(tf.clip_by_value(grad, -1., 1.), var) for grad, var in gradients if grad is not None]\n",
    "    train_op = optimizer.apply_gradients(capped_gradients)"
   ]
  },
  {
   "cell_type": "markdown",
   "metadata": {},
   "source": [
    "## Train\n",
    "Train the neural network on the preprocessed data.  If you have a hard time getting a good loss, check the [forums](https://discussions.udacity.com/) to see if anyone is having the same problem."
   ]
  },
  {
   "cell_type": "code",
   "execution_count": 20,
   "metadata": {},
   "outputs": [
    {
     "name": "stdout",
     "output_type": "stream",
     "text": [
      "Epoch   0 Batch    0/8   train_loss = 8.822\n",
      "Epoch   2 Batch    4/8   train_loss = 5.758\n",
      "Epoch   5 Batch    0/8   train_loss = 4.874\n",
      "Epoch   7 Batch    4/8   train_loss = 4.340\n",
      "Epoch  10 Batch    0/8   train_loss = 3.969\n",
      "Epoch  12 Batch    4/8   train_loss = 3.647\n",
      "Epoch  15 Batch    0/8   train_loss = 3.419\n",
      "Epoch  17 Batch    4/8   train_loss = 3.172\n",
      "Epoch  20 Batch    0/8   train_loss = 3.030\n",
      "Epoch  22 Batch    4/8   train_loss = 2.822\n",
      "Epoch  25 Batch    0/8   train_loss = 2.738\n",
      "Epoch  27 Batch    4/8   train_loss = 2.556\n",
      "Epoch  30 Batch    0/8   train_loss = 2.483\n",
      "Epoch  32 Batch    4/8   train_loss = 2.299\n",
      "Epoch  35 Batch    0/8   train_loss = 2.229\n",
      "Epoch  37 Batch    4/8   train_loss = 2.071\n",
      "Epoch  40 Batch    0/8   train_loss = 2.013\n",
      "Epoch  42 Batch    4/8   train_loss = 1.849\n",
      "Epoch  45 Batch    0/8   train_loss = 1.805\n",
      "Epoch  47 Batch    4/8   train_loss = 1.650\n",
      "Epoch  50 Batch    0/8   train_loss = 1.603\n",
      "Epoch  52 Batch    4/8   train_loss = 1.448\n",
      "Epoch  55 Batch    0/8   train_loss = 1.413\n",
      "Epoch  57 Batch    4/8   train_loss = 1.289\n",
      "Epoch  60 Batch    0/8   train_loss = 1.280\n",
      "Epoch  62 Batch    4/8   train_loss = 1.170\n",
      "Epoch  65 Batch    0/8   train_loss = 1.140\n",
      "Epoch  67 Batch    4/8   train_loss = 1.044\n",
      "Epoch  70 Batch    0/8   train_loss = 1.053\n",
      "Epoch  72 Batch    4/8   train_loss = 0.968\n",
      "Epoch  75 Batch    0/8   train_loss = 0.921\n",
      "Epoch  77 Batch    4/8   train_loss = 0.803\n",
      "Epoch  80 Batch    0/8   train_loss = 0.771\n",
      "Epoch  82 Batch    4/8   train_loss = 0.687\n",
      "Epoch  85 Batch    0/8   train_loss = 0.679\n",
      "Epoch  87 Batch    4/8   train_loss = 0.612\n",
      "Epoch  90 Batch    0/8   train_loss = 0.620\n",
      "Epoch  92 Batch    4/8   train_loss = 0.545\n",
      "Epoch  95 Batch    0/8   train_loss = 0.552\n",
      "Epoch  97 Batch    4/8   train_loss = 0.488\n",
      "Epoch 100 Batch    0/8   train_loss = 0.492\n",
      "Epoch 102 Batch    4/8   train_loss = 0.419\n",
      "Epoch 105 Batch    0/8   train_loss = 0.432\n",
      "Epoch 107 Batch    4/8   train_loss = 0.374\n",
      "Epoch 110 Batch    0/8   train_loss = 0.396\n",
      "Epoch 112 Batch    4/8   train_loss = 0.343\n",
      "Model Trained and Saved\n"
     ]
    }
   ],
   "source": [
    "\"\"\"\n",
    "DON'T MODIFY ANYTHING IN THIS CELL\n",
    "\"\"\"\n",
    "batches = get_batches(int_text, batch_size, seq_length)\n",
    "\n",
    "with tf.Session(graph=train_graph) as sess:\n",
    "    sess.run(tf.global_variables_initializer())\n",
    "\n",
    "    for epoch_i in range(num_epochs):\n",
    "        state = sess.run(initial_state, {input_text: batches[0][0]})\n",
    "\n",
    "        for batch_i, (x, y) in enumerate(batches):\n",
    "            feed = {\n",
    "                input_text: x,\n",
    "                targets: y,\n",
    "                initial_state: state,\n",
    "                lr: learning_rate}\n",
    "            train_loss, state, _ = sess.run([cost, final_state, train_op], feed)\n",
    "\n",
    "            # Show every <show_every_n_batches> batches\n",
    "            if (epoch_i * len(batches) + batch_i) % show_every_n_batches == 0:\n",
    "                print('Epoch {:>3} Batch {:>4}/{}   train_loss = {:.3f}'.format(\n",
    "                    epoch_i,\n",
    "                    batch_i,\n",
    "                    len(batches),\n",
    "                    train_loss))\n",
    "\n",
    "    # Save Model\n",
    "    saver = tf.train.Saver()\n",
    "    saver.save(sess, save_dir)\n",
    "    print('Model Trained and Saved')"
   ]
  },
  {
   "cell_type": "markdown",
   "metadata": {},
   "source": [
    "## Save Parameters\n",
    "Save `seq_length` and `save_dir` for generating a new TV script."
   ]
  },
  {
   "cell_type": "code",
   "execution_count": 21,
   "metadata": {
    "collapsed": true
   },
   "outputs": [],
   "source": [
    "\"\"\"\n",
    "DON'T MODIFY ANYTHING IN THIS CELL\n",
    "\"\"\"\n",
    "# Save parameters for checkpoint\n",
    "helper.save_params((seq_length, save_dir))"
   ]
  },
  {
   "cell_type": "markdown",
   "metadata": {},
   "source": [
    "# Checkpoint"
   ]
  },
  {
   "cell_type": "code",
   "execution_count": 22,
   "metadata": {
    "collapsed": true
   },
   "outputs": [],
   "source": [
    "\"\"\"\n",
    "DON'T MODIFY ANYTHING IN THIS CELL\n",
    "\"\"\"\n",
    "import tensorflow as tf\n",
    "import numpy as np\n",
    "import helper\n",
    "import problem_unittests as tests\n",
    "\n",
    "_, vocab_to_int, int_to_vocab, token_dict = helper.load_preprocess()\n",
    "seq_length, load_dir = helper.load_params()"
   ]
  },
  {
   "cell_type": "markdown",
   "metadata": {},
   "source": [
    "## Implement Generate Functions\n",
    "### Get Tensors\n",
    "Get tensors from `loaded_graph` using the function [`get_tensor_by_name()`](https://www.tensorflow.org/api_docs/python/tf/Graph#get_tensor_by_name).  Get the tensors using the following names:\n",
    "- \"input:0\"\n",
    "- \"initial_state:0\"\n",
    "- \"final_state:0\"\n",
    "- \"probs:0\"\n",
    "\n",
    "Return the tensors in the following tuple `(InputTensor, InitialStateTensor, FinalStateTensor, ProbsTensor)` "
   ]
  },
  {
   "cell_type": "code",
   "execution_count": 24,
   "metadata": {},
   "outputs": [
    {
     "name": "stdout",
     "output_type": "stream",
     "text": [
      "['input', 'initial_state', 'final_state', 'probs']\n",
      "Tests Passed\n"
     ]
    }
   ],
   "source": [
    "def get_tensors(loaded_graph):\n",
    "    \"\"\"\n",
    "    Get input, initial state, final state, and probabilities tensor from <loaded_graph>\n",
    "    :param loaded_graph: TensorFlow graph loaded from file\n",
    "    :return: Tuple (InputTensor, InitialStateTensor, FinalStateTensor, ProbsTensor)\n",
    "    \"\"\"\n",
    "    # TODO: Implement Function\n",
    "    print([n.name for n in loaded_graph.as_graph_def().node])\n",
    "    return loaded_graph.get_tensor_by_name(\"input:0\"), loaded_graph.get_tensor_by_name(\"initial_state:0\"), loaded_graph.get_tensor_by_name(\"final_state:0\"), loaded_graph.get_tensor_by_name(\"probs:0\")\n",
    "\n",
    "\n",
    "\"\"\"\n",
    "DON'T MODIFY ANYTHING IN THIS CELL THAT IS BELOW THIS LINE\n",
    "\"\"\"\n",
    "tests.test_get_tensors(get_tensors)"
   ]
  },
  {
   "cell_type": "markdown",
   "metadata": {},
   "source": [
    "### Choose Word\n",
    "Implement the `pick_word()` function to select the next word using `probabilities`."
   ]
  },
  {
   "cell_type": "code",
   "execution_count": 25,
   "metadata": {},
   "outputs": [
    {
     "name": "stdout",
     "output_type": "stream",
     "text": [
      "Tests Passed\n"
     ]
    }
   ],
   "source": [
    "def pick_word(probabilities, int_to_vocab):\n",
    "    \"\"\"\n",
    "    Pick the next word in the generated text\n",
    "    :param probabilities: Probabilites of the next word\n",
    "    :param int_to_vocab: Dictionary of word ids as the keys and words as the values\n",
    "    :return: String of the predicted word\n",
    "    \"\"\"\n",
    "    # TODO: Implement Function\n",
    "    m = max(probabilities)\n",
    "    return int_to_vocab[[i for i, j in enumerate(probabilities) if j == m][0]]\n",
    "\n",
    "\n",
    "\"\"\"\n",
    "DON'T MODIFY ANYTHING IN THIS CELL THAT IS BELOW THIS LINE\n",
    "\"\"\"\n",
    "tests.test_pick_word(pick_word)"
   ]
  },
  {
   "cell_type": "markdown",
   "metadata": {},
   "source": [
    "## Generate TV Script\n",
    "This will generate the TV script for you.  Set `gen_length` to the length of TV script you want to generate."
   ]
  },
  {
   "cell_type": "code",
   "execution_count": 26,
   "metadata": {},
   "outputs": [
    {
     "name": "stdout",
     "output_type": "stream",
     "text": [
      "INFO:tensorflow:Restoring parameters from ./save\n",
      "['input', 'targets', 'learning_rate', 'Shape', 'strided_slice/stack', 'strided_slice/stack_1', 'strided_slice/stack_2', 'strided_slice', 'MultiRNNCellZeroState/BasicLSTMCellZeroState/stack/1', 'MultiRNNCellZeroState/BasicLSTMCellZeroState/stack', 'MultiRNNCellZeroState/BasicLSTMCellZeroState/zeros/Const', 'MultiRNNCellZeroState/BasicLSTMCellZeroState/zeros', 'MultiRNNCellZeroState/BasicLSTMCellZeroState/stack_1/1', 'MultiRNNCellZeroState/BasicLSTMCellZeroState/stack_1', 'MultiRNNCellZeroState/BasicLSTMCellZeroState/zeros_1/Const', 'MultiRNNCellZeroState/BasicLSTMCellZeroState/zeros_1', 'initial_state/input/0', 'initial_state/input', 'initial_state', 'EmbedSequence/embeddings/Initializer/random_uniform/shape', 'EmbedSequence/embeddings/Initializer/random_uniform/min', 'EmbedSequence/embeddings/Initializer/random_uniform/max', 'EmbedSequence/embeddings/Initializer/random_uniform/RandomUniform', 'EmbedSequence/embeddings/Initializer/random_uniform/sub', 'EmbedSequence/embeddings/Initializer/random_uniform/mul', 'EmbedSequence/embeddings/Initializer/random_uniform', 'EmbedSequence/embeddings', 'EmbedSequence/embeddings/Assign', 'EmbedSequence/embeddings/read', 'EmbedSequence/embedding_lookup', 'transpose/perm', 'transpose', 'rnn/Shape', 'rnn/strided_slice/stack', 'rnn/strided_slice/stack_1', 'rnn/strided_slice/stack_2', 'rnn/strided_slice', 'rnn/strided_slice_1/stack', 'rnn/strided_slice_1/stack_1', 'rnn/strided_slice_1/stack_2', 'rnn/strided_slice_1', 'rnn/MultiRNNCellZeroState/BasicLSTMCellZeroState/stack/1', 'rnn/MultiRNNCellZeroState/BasicLSTMCellZeroState/stack', 'rnn/MultiRNNCellZeroState/BasicLSTMCellZeroState/zeros/Const', 'rnn/MultiRNNCellZeroState/BasicLSTMCellZeroState/zeros', 'rnn/MultiRNNCellZeroState/BasicLSTMCellZeroState/stack_1/1', 'rnn/MultiRNNCellZeroState/BasicLSTMCellZeroState/stack_1', 'rnn/MultiRNNCellZeroState/BasicLSTMCellZeroState/zeros_1/Const', 'rnn/MultiRNNCellZeroState/BasicLSTMCellZeroState/zeros_1', 'rnn/Shape_1', 'rnn/strided_slice_2/stack', 'rnn/strided_slice_2/stack_1', 'rnn/strided_slice_2/stack_2', 'rnn/strided_slice_2', 'rnn/strided_slice_3/stack', 'rnn/strided_slice_3/stack_1', 'rnn/strided_slice_3/stack_2', 'rnn/strided_slice_3', 'rnn/stack/1', 'rnn/stack', 'rnn/zeros/Const', 'rnn/zeros', 'rnn/time', 'rnn/TensorArray', 'rnn/TensorArray_1', 'rnn/TensorArrayUnstack/Shape', 'rnn/TensorArrayUnstack/strided_slice/stack', 'rnn/TensorArrayUnstack/strided_slice/stack_1', 'rnn/TensorArrayUnstack/strided_slice/stack_2', 'rnn/TensorArrayUnstack/strided_slice', 'rnn/TensorArrayUnstack/range/start', 'rnn/TensorArrayUnstack/range/delta', 'rnn/TensorArrayUnstack/range', 'rnn/TensorArrayUnstack/TensorArrayScatter/TensorArrayScatterV3', 'rnn/while/Enter', 'rnn/while/Enter_1', 'rnn/while/Enter_2', 'rnn/while/Enter_3', 'rnn/while/Merge', 'rnn/while/Merge_1', 'rnn/while/Merge_2', 'rnn/while/Merge_3', 'rnn/while/Less/Enter', 'rnn/while/Less', 'rnn/while/LoopCond', 'rnn/while/Switch', 'rnn/while/Switch_1', 'rnn/while/Switch_2', 'rnn/while/Switch_3', 'rnn/while/Identity', 'rnn/while/Identity_1', 'rnn/while/Identity_2', 'rnn/while/Identity_3', 'rnn/while/TensorArrayReadV3/Enter', 'rnn/while/TensorArrayReadV3/Enter_1', 'rnn/while/TensorArrayReadV3', 'rnn/multi_rnn_cell/cell_0/basic_lstm_cell/weights/Initializer/random_uniform/shape', 'rnn/multi_rnn_cell/cell_0/basic_lstm_cell/weights/Initializer/random_uniform/min', 'rnn/multi_rnn_cell/cell_0/basic_lstm_cell/weights/Initializer/random_uniform/max', 'rnn/multi_rnn_cell/cell_0/basic_lstm_cell/weights/Initializer/random_uniform/RandomUniform', 'rnn/multi_rnn_cell/cell_0/basic_lstm_cell/weights/Initializer/random_uniform/sub', 'rnn/multi_rnn_cell/cell_0/basic_lstm_cell/weights/Initializer/random_uniform/mul', 'rnn/multi_rnn_cell/cell_0/basic_lstm_cell/weights/Initializer/random_uniform', 'rnn/multi_rnn_cell/cell_0/basic_lstm_cell/weights', 'rnn/multi_rnn_cell/cell_0/basic_lstm_cell/weights/Assign', 'rnn/multi_rnn_cell/cell_0/basic_lstm_cell/weights/read', 'rnn/while/multi_rnn_cell/cell_0/basic_lstm_cell/basic_lstm_cell_1/concat/axis', 'rnn/while/multi_rnn_cell/cell_0/basic_lstm_cell/basic_lstm_cell_1/concat', 'rnn/while/multi_rnn_cell/cell_0/basic_lstm_cell/basic_lstm_cell_1/MatMul/Enter', 'rnn/while/multi_rnn_cell/cell_0/basic_lstm_cell/basic_lstm_cell_1/MatMul', 'rnn/multi_rnn_cell/cell_0/basic_lstm_cell/biases/Initializer/Const', 'rnn/multi_rnn_cell/cell_0/basic_lstm_cell/biases', 'rnn/multi_rnn_cell/cell_0/basic_lstm_cell/biases/Assign', 'rnn/multi_rnn_cell/cell_0/basic_lstm_cell/biases/read', 'rnn/while/multi_rnn_cell/cell_0/basic_lstm_cell/basic_lstm_cell_1/BiasAdd/Enter', 'rnn/while/multi_rnn_cell/cell_0/basic_lstm_cell/basic_lstm_cell_1/BiasAdd', 'rnn/while/multi_rnn_cell/cell_0/basic_lstm_cell/split/split_dim', 'rnn/while/multi_rnn_cell/cell_0/basic_lstm_cell/split', 'rnn/while/multi_rnn_cell/cell_0/basic_lstm_cell/add/y', 'rnn/while/multi_rnn_cell/cell_0/basic_lstm_cell/add', 'rnn/while/multi_rnn_cell/cell_0/basic_lstm_cell/Sigmoid', 'rnn/while/multi_rnn_cell/cell_0/basic_lstm_cell/mul', 'rnn/while/multi_rnn_cell/cell_0/basic_lstm_cell/Sigmoid_1', 'rnn/while/multi_rnn_cell/cell_0/basic_lstm_cell/Tanh', 'rnn/while/multi_rnn_cell/cell_0/basic_lstm_cell/mul_1', 'rnn/while/multi_rnn_cell/cell_0/basic_lstm_cell/add_1', 'rnn/while/multi_rnn_cell/cell_0/basic_lstm_cell/Tanh_1', 'rnn/while/multi_rnn_cell/cell_0/basic_lstm_cell/Sigmoid_2', 'rnn/while/multi_rnn_cell/cell_0/basic_lstm_cell/mul_2', 'rnn/while/TensorArrayWrite/TensorArrayWriteV3/Enter', 'rnn/while/TensorArrayWrite/TensorArrayWriteV3', 'rnn/while/add/y', 'rnn/while/add', 'rnn/while/NextIteration', 'rnn/while/NextIteration_1', 'rnn/while/NextIteration_2', 'rnn/while/NextIteration_3', 'rnn/while/Exit', 'rnn/while/Exit_1', 'rnn/while/Exit_2', 'rnn/while/Exit_3', 'rnn/TensorArrayStack/TensorArraySizeV3', 'rnn/TensorArrayStack/range/start', 'rnn/TensorArrayStack/range/delta', 'rnn/TensorArrayStack/range', 'rnn/TensorArrayStack/TensorArrayGatherV3', 'rnn/transpose/perm', 'rnn/transpose', 'final_state/input/0', 'final_state/input', 'final_state', 'fully_connected/weights/Initializer/random_uniform/shape', 'fully_connected/weights/Initializer/random_uniform/min', 'fully_connected/weights/Initializer/random_uniform/max', 'fully_connected/weights/Initializer/random_uniform/RandomUniform', 'fully_connected/weights/Initializer/random_uniform/sub', 'fully_connected/weights/Initializer/random_uniform/mul', 'fully_connected/weights/Initializer/random_uniform', 'fully_connected/weights', 'fully_connected/weights/Assign', 'fully_connected/weights/read', 'fully_connected/biases/Initializer/Const', 'fully_connected/biases', 'fully_connected/biases/Assign', 'fully_connected/biases/read', 'fully_connected/Tensordot/Shape', 'fully_connected/Tensordot/Rank', 'fully_connected/Tensordot/axes', 'fully_connected/Tensordot/GreaterEqual/y', 'fully_connected/Tensordot/GreaterEqual', 'fully_connected/Tensordot/Cast', 'fully_connected/Tensordot/mul', 'fully_connected/Tensordot/Less/y', 'fully_connected/Tensordot/Less', 'fully_connected/Tensordot/Cast_1', 'fully_connected/Tensordot/add', 'fully_connected/Tensordot/mul_1', 'fully_connected/Tensordot/add_1', 'fully_connected/Tensordot/range/start', 'fully_connected/Tensordot/range/delta', 'fully_connected/Tensordot/range', 'fully_connected/Tensordot/ListDiff', 'fully_connected/Tensordot/Gather', 'fully_connected/Tensordot/Gather_1', 'fully_connected/Tensordot/Const', 'fully_connected/Tensordot/Prod', 'fully_connected/Tensordot/Const_1', 'fully_connected/Tensordot/Prod_1', 'fully_connected/Tensordot/concat/axis', 'fully_connected/Tensordot/concat', 'fully_connected/Tensordot/concat_1/axis', 'fully_connected/Tensordot/concat_1', 'fully_connected/Tensordot/stack', 'fully_connected/Tensordot/transpose', 'fully_connected/Tensordot/Reshape', 'fully_connected/Tensordot/transpose_1/perm', 'fully_connected/Tensordot/transpose_1', 'fully_connected/Tensordot/Reshape_1/shape', 'fully_connected/Tensordot/Reshape_1', 'fully_connected/Tensordot/MatMul', 'fully_connected/Tensordot/Const_2', 'fully_connected/Tensordot/concat_2/axis', 'fully_connected/Tensordot/concat_2', 'fully_connected/Tensordot', 'fully_connected/BiasAdd', 'Shape_1', 'Rank', 'Shape_2', 'Sub/y', 'Sub', 'Slice/begin', 'Slice/size', 'Slice', 'concat/values_0', 'concat/axis', 'concat', 'Reshape', 'probs', 'Reshape_1', 'strided_slice_1/stack', 'strided_slice_1/stack_1', 'strided_slice_1/stack_2', 'strided_slice_1', 'strided_slice_2/stack', 'strided_slice_2/stack_1', 'strided_slice_2/stack_2', 'strided_slice_2', 'ones/shape', 'ones/Const', 'ones', 'sequence_loss/Shape', 'sequence_loss/strided_slice/stack', 'sequence_loss/strided_slice/stack_1', 'sequence_loss/strided_slice/stack_2', 'sequence_loss/strided_slice', 'sequence_loss/Reshape/shape/0', 'sequence_loss/Reshape/shape', 'sequence_loss/Reshape', 'sequence_loss/Reshape_1/shape', 'sequence_loss/Reshape_1', 'sequence_loss/SparseSoftmaxCrossEntropyWithLogits/Shape', 'sequence_loss/SparseSoftmaxCrossEntropyWithLogits/SparseSoftmaxCrossEntropyWithLogits', 'sequence_loss/Reshape_2/shape', 'sequence_loss/Reshape_2', 'sequence_loss/mul', 'sequence_loss/Const', 'sequence_loss/Sum', 'sequence_loss/Const_1', 'sequence_loss/Sum_1', 'sequence_loss/add/y', 'sequence_loss/add', 'sequence_loss/truediv', 'gradients/Shape', 'gradients/Const', 'gradients/Fill', 'gradients/f_count', 'gradients/f_count_1', 'gradients/Merge', 'gradients/Switch', 'gradients/Add/y', 'gradients/Add', 'gradients/NextIteration', 'gradients/f_count_2', 'gradients/b_count', 'gradients/b_count_1', 'gradients/Merge_1', 'gradients/GreaterEqual/Enter', 'gradients/GreaterEqual', 'gradients/b_count_2', 'gradients/Switch_1', 'gradients/Sub', 'gradients/NextIteration_1', 'gradients/b_count_3', 'gradients/sequence_loss/truediv_grad/Shape', 'gradients/sequence_loss/truediv_grad/Shape_1', 'gradients/sequence_loss/truediv_grad/BroadcastGradientArgs', 'gradients/sequence_loss/truediv_grad/RealDiv', 'gradients/sequence_loss/truediv_grad/Sum', 'gradients/sequence_loss/truediv_grad/Reshape', 'gradients/sequence_loss/truediv_grad/Neg', 'gradients/sequence_loss/truediv_grad/RealDiv_1', 'gradients/sequence_loss/truediv_grad/RealDiv_2', 'gradients/sequence_loss/truediv_grad/mul', 'gradients/sequence_loss/truediv_grad/Sum_1', 'gradients/sequence_loss/truediv_grad/Reshape_1', 'gradients/sequence_loss/truediv_grad/tuple/group_deps', 'gradients/sequence_loss/truediv_grad/tuple/control_dependency', 'gradients/sequence_loss/truediv_grad/tuple/control_dependency_1', 'gradients/sequence_loss/Sum_grad/Reshape/shape', 'gradients/sequence_loss/Sum_grad/Reshape', 'gradients/sequence_loss/Sum_grad/Shape', 'gradients/sequence_loss/Sum_grad/Tile', 'gradients/sequence_loss/mul_grad/Shape', 'gradients/sequence_loss/mul_grad/Shape_1', 'gradients/sequence_loss/mul_grad/BroadcastGradientArgs', 'gradients/sequence_loss/mul_grad/mul', 'gradients/sequence_loss/mul_grad/Sum', 'gradients/sequence_loss/mul_grad/Reshape', 'gradients/sequence_loss/mul_grad/mul_1', 'gradients/sequence_loss/mul_grad/Sum_1', 'gradients/sequence_loss/mul_grad/Reshape_1', 'gradients/sequence_loss/mul_grad/tuple/group_deps', 'gradients/sequence_loss/mul_grad/tuple/control_dependency', 'gradients/sequence_loss/mul_grad/tuple/control_dependency_1', 'gradients/zeros_like', 'gradients/sequence_loss/SparseSoftmaxCrossEntropyWithLogits/SparseSoftmaxCrossEntropyWithLogits_grad/PreventGradient', 'gradients/sequence_loss/SparseSoftmaxCrossEntropyWithLogits/SparseSoftmaxCrossEntropyWithLogits_grad/ExpandDims/dim', 'gradients/sequence_loss/SparseSoftmaxCrossEntropyWithLogits/SparseSoftmaxCrossEntropyWithLogits_grad/ExpandDims', 'gradients/sequence_loss/SparseSoftmaxCrossEntropyWithLogits/SparseSoftmaxCrossEntropyWithLogits_grad/mul', 'gradients/sequence_loss/Reshape_grad/Shape', 'gradients/sequence_loss/Reshape_grad/Reshape', 'gradients/fully_connected/BiasAdd_grad/BiasAddGrad', 'gradients/fully_connected/BiasAdd_grad/tuple/group_deps', 'gradients/fully_connected/BiasAdd_grad/tuple/control_dependency', 'gradients/fully_connected/BiasAdd_grad/tuple/control_dependency_1', 'gradients/fully_connected/Tensordot_grad/Shape', 'gradients/fully_connected/Tensordot_grad/Reshape', 'gradients/fully_connected/Tensordot/MatMul_grad/MatMul', 'gradients/fully_connected/Tensordot/MatMul_grad/MatMul_1', 'gradients/fully_connected/Tensordot/MatMul_grad/tuple/group_deps', 'gradients/fully_connected/Tensordot/MatMul_grad/tuple/control_dependency', 'gradients/fully_connected/Tensordot/MatMul_grad/tuple/control_dependency_1', 'gradients/fully_connected/Tensordot/Reshape_grad/Shape', 'gradients/fully_connected/Tensordot/Reshape_grad/Reshape', 'gradients/fully_connected/Tensordot/Reshape_1_grad/Shape', 'gradients/fully_connected/Tensordot/Reshape_1_grad/Reshape', 'gradients/fully_connected/Tensordot/transpose_grad/InvertPermutation', 'gradients/fully_connected/Tensordot/transpose_grad/transpose', 'gradients/fully_connected/Tensordot/transpose_1_grad/InvertPermutation', 'gradients/fully_connected/Tensordot/transpose_1_grad/transpose', 'gradients/rnn/transpose_grad/InvertPermutation', 'gradients/rnn/transpose_grad/transpose', 'gradients/rnn/TensorArrayStack/TensorArrayGatherV3_grad/TensorArrayGrad/TensorArrayGradV3', 'gradients/rnn/TensorArrayStack/TensorArrayGatherV3_grad/TensorArrayGrad/gradient_flow', 'gradients/rnn/TensorArrayStack/TensorArrayGatherV3_grad/TensorArrayScatter/TensorArrayScatterV3', 'gradients/zeros_like_1', 'gradients/zeros_like_2', 'gradients/rnn/while/Exit_1_grad/b_exit', 'gradients/rnn/while/Exit_2_grad/b_exit', 'gradients/rnn/while/Exit_3_grad/b_exit', 'gradients/rnn/while/Switch_1_grad/b_switch', 'gradients/rnn/while/Switch_2_grad/b_switch', 'gradients/rnn/while/Switch_3_grad/b_switch', 'gradients/rnn/while/Merge_1_grad/Switch', 'gradients/rnn/while/Merge_1_grad/tuple/group_deps', 'gradients/rnn/while/Merge_1_grad/tuple/control_dependency', 'gradients/rnn/while/Merge_1_grad/tuple/control_dependency_1', 'gradients/rnn/while/Merge_2_grad/Switch', 'gradients/rnn/while/Merge_2_grad/tuple/group_deps', 'gradients/rnn/while/Merge_2_grad/tuple/control_dependency', 'gradients/rnn/while/Merge_2_grad/tuple/control_dependency_1', 'gradients/rnn/while/Merge_3_grad/Switch', 'gradients/rnn/while/Merge_3_grad/tuple/group_deps', 'gradients/rnn/while/Merge_3_grad/tuple/control_dependency', 'gradients/rnn/while/Merge_3_grad/tuple/control_dependency_1', 'gradients/rnn/while/Enter_1_grad/Exit', 'gradients/rnn/while/Enter_2_grad/Exit', 'gradients/rnn/while/Enter_3_grad/Exit', 'gradients/rnn/while/TensorArrayWrite/TensorArrayWriteV3_grad/TensorArrayGrad/TensorArrayGradV3/Enter', 'gradients/rnn/while/TensorArrayWrite/TensorArrayWriteV3_grad/TensorArrayGrad/TensorArrayGradV3', 'gradients/rnn/while/TensorArrayWrite/TensorArrayWriteV3_grad/TensorArrayGrad/gradient_flow', 'gradients/rnn/while/TensorArrayWrite/TensorArrayWriteV3_grad/TensorArrayReadV3/f_acc', 'gradients/rnn/while/TensorArrayWrite/TensorArrayWriteV3_grad/TensorArrayReadV3/RefEnter', 'gradients/rnn/while/TensorArrayWrite/TensorArrayWriteV3_grad/TensorArrayReadV3/StackPush', 'gradients/rnn/while/TensorArrayWrite/TensorArrayWriteV3_grad/TensorArrayReadV3/StackPop/RefEnter', 'gradients/rnn/while/TensorArrayWrite/TensorArrayWriteV3_grad/TensorArrayReadV3/StackPop', 'gradients/rnn/while/TensorArrayWrite/TensorArrayWriteV3_grad/TensorArrayReadV3/b_sync', 'gradients/rnn/while/TensorArrayWrite/TensorArrayWriteV3_grad/TensorArrayReadV3', 'gradients/rnn/while/TensorArrayWrite/TensorArrayWriteV3_grad/tuple/group_deps', 'gradients/rnn/while/TensorArrayWrite/TensorArrayWriteV3_grad/tuple/control_dependency', 'gradients/rnn/while/TensorArrayWrite/TensorArrayWriteV3_grad/tuple/control_dependency_1', 'gradients/rnn/MultiRNNCellZeroState/BasicLSTMCellZeroState/zeros_grad/Const', 'gradients/rnn/MultiRNNCellZeroState/BasicLSTMCellZeroState/zeros_grad/Sum', 'gradients/rnn/MultiRNNCellZeroState/BasicLSTMCellZeroState/zeros_1_grad/Const', 'gradients/rnn/MultiRNNCellZeroState/BasicLSTMCellZeroState/zeros_1_grad/Sum', 'gradients/AddN', 'gradients/rnn/while/multi_rnn_cell/cell_0/basic_lstm_cell/mul_2_grad/Shape', 'gradients/rnn/while/multi_rnn_cell/cell_0/basic_lstm_cell/mul_2_grad/Shape_1', 'gradients/rnn/while/multi_rnn_cell/cell_0/basic_lstm_cell/mul_2_grad/BroadcastGradientArgs/f_acc', 'gradients/rnn/while/multi_rnn_cell/cell_0/basic_lstm_cell/mul_2_grad/BroadcastGradientArgs/RefEnter', 'gradients/rnn/while/multi_rnn_cell/cell_0/basic_lstm_cell/mul_2_grad/BroadcastGradientArgs/StackPush', 'gradients/rnn/while/multi_rnn_cell/cell_0/basic_lstm_cell/mul_2_grad/BroadcastGradientArgs/StackPop/RefEnter', 'gradients/rnn/while/multi_rnn_cell/cell_0/basic_lstm_cell/mul_2_grad/BroadcastGradientArgs/StackPop', 'gradients/rnn/while/multi_rnn_cell/cell_0/basic_lstm_cell/mul_2_grad/BroadcastGradientArgs/f_acc_1', 'gradients/rnn/while/multi_rnn_cell/cell_0/basic_lstm_cell/mul_2_grad/BroadcastGradientArgs/RefEnter_1', 'gradients/rnn/while/multi_rnn_cell/cell_0/basic_lstm_cell/mul_2_grad/BroadcastGradientArgs/StackPush_1', 'gradients/rnn/while/multi_rnn_cell/cell_0/basic_lstm_cell/mul_2_grad/BroadcastGradientArgs/StackPop_1/RefEnter', 'gradients/rnn/while/multi_rnn_cell/cell_0/basic_lstm_cell/mul_2_grad/BroadcastGradientArgs/StackPop_1', 'gradients/rnn/while/multi_rnn_cell/cell_0/basic_lstm_cell/mul_2_grad/BroadcastGradientArgs', 'gradients/rnn/while/multi_rnn_cell/cell_0/basic_lstm_cell/mul_2_grad/mul/f_acc', 'gradients/rnn/while/multi_rnn_cell/cell_0/basic_lstm_cell/mul_2_grad/mul/RefEnter', 'gradients/rnn/while/multi_rnn_cell/cell_0/basic_lstm_cell/mul_2_grad/mul/StackPush', 'gradients/rnn/while/multi_rnn_cell/cell_0/basic_lstm_cell/mul_2_grad/mul/StackPop/RefEnter', 'gradients/rnn/while/multi_rnn_cell/cell_0/basic_lstm_cell/mul_2_grad/mul/StackPop', 'gradients/rnn/while/multi_rnn_cell/cell_0/basic_lstm_cell/mul_2_grad/mul', 'gradients/rnn/while/multi_rnn_cell/cell_0/basic_lstm_cell/mul_2_grad/Sum', 'gradients/rnn/while/multi_rnn_cell/cell_0/basic_lstm_cell/mul_2_grad/Reshape', 'gradients/rnn/while/multi_rnn_cell/cell_0/basic_lstm_cell/mul_2_grad/mul_1/f_acc', 'gradients/rnn/while/multi_rnn_cell/cell_0/basic_lstm_cell/mul_2_grad/mul_1/RefEnter', 'gradients/rnn/while/multi_rnn_cell/cell_0/basic_lstm_cell/mul_2_grad/mul_1/StackPush', 'gradients/rnn/while/multi_rnn_cell/cell_0/basic_lstm_cell/mul_2_grad/mul_1/StackPop/RefEnter', 'gradients/rnn/while/multi_rnn_cell/cell_0/basic_lstm_cell/mul_2_grad/mul_1/StackPop', 'gradients/rnn/while/multi_rnn_cell/cell_0/basic_lstm_cell/mul_2_grad/mul_1', 'gradients/rnn/while/multi_rnn_cell/cell_0/basic_lstm_cell/mul_2_grad/Sum_1', 'gradients/rnn/while/multi_rnn_cell/cell_0/basic_lstm_cell/mul_2_grad/Reshape_1', 'gradients/rnn/while/multi_rnn_cell/cell_0/basic_lstm_cell/mul_2_grad/tuple/group_deps', 'gradients/rnn/while/multi_rnn_cell/cell_0/basic_lstm_cell/mul_2_grad/tuple/control_dependency', 'gradients/rnn/while/multi_rnn_cell/cell_0/basic_lstm_cell/mul_2_grad/tuple/control_dependency_1', 'gradients/rnn/while/multi_rnn_cell/cell_0/basic_lstm_cell/Tanh_1_grad/TanhGrad', 'gradients/rnn/while/multi_rnn_cell/cell_0/basic_lstm_cell/Sigmoid_2_grad/SigmoidGrad', 'gradients/rnn/while/Switch_1_grad_1/NextIteration', 'gradients/AddN_1', 'gradients/rnn/while/multi_rnn_cell/cell_0/basic_lstm_cell/add_1_grad/Shape', 'gradients/rnn/while/multi_rnn_cell/cell_0/basic_lstm_cell/add_1_grad/Shape_1', 'gradients/rnn/while/multi_rnn_cell/cell_0/basic_lstm_cell/add_1_grad/BroadcastGradientArgs/f_acc', 'gradients/rnn/while/multi_rnn_cell/cell_0/basic_lstm_cell/add_1_grad/BroadcastGradientArgs/RefEnter', 'gradients/rnn/while/multi_rnn_cell/cell_0/basic_lstm_cell/add_1_grad/BroadcastGradientArgs/StackPush', 'gradients/rnn/while/multi_rnn_cell/cell_0/basic_lstm_cell/add_1_grad/BroadcastGradientArgs/StackPop/RefEnter', 'gradients/rnn/while/multi_rnn_cell/cell_0/basic_lstm_cell/add_1_grad/BroadcastGradientArgs/StackPop', 'gradients/rnn/while/multi_rnn_cell/cell_0/basic_lstm_cell/add_1_grad/BroadcastGradientArgs/f_acc_1', 'gradients/rnn/while/multi_rnn_cell/cell_0/basic_lstm_cell/add_1_grad/BroadcastGradientArgs/RefEnter_1', 'gradients/rnn/while/multi_rnn_cell/cell_0/basic_lstm_cell/add_1_grad/BroadcastGradientArgs/StackPush_1', 'gradients/rnn/while/multi_rnn_cell/cell_0/basic_lstm_cell/add_1_grad/BroadcastGradientArgs/StackPop_1/RefEnter', 'gradients/rnn/while/multi_rnn_cell/cell_0/basic_lstm_cell/add_1_grad/BroadcastGradientArgs/StackPop_1', 'gradients/rnn/while/multi_rnn_cell/cell_0/basic_lstm_cell/add_1_grad/BroadcastGradientArgs', 'gradients/rnn/while/multi_rnn_cell/cell_0/basic_lstm_cell/add_1_grad/Sum', 'gradients/rnn/while/multi_rnn_cell/cell_0/basic_lstm_cell/add_1_grad/Reshape', 'gradients/rnn/while/multi_rnn_cell/cell_0/basic_lstm_cell/add_1_grad/Sum_1', 'gradients/rnn/while/multi_rnn_cell/cell_0/basic_lstm_cell/add_1_grad/Reshape_1', 'gradients/rnn/while/multi_rnn_cell/cell_0/basic_lstm_cell/add_1_grad/tuple/group_deps', 'gradients/rnn/while/multi_rnn_cell/cell_0/basic_lstm_cell/add_1_grad/tuple/control_dependency', 'gradients/rnn/while/multi_rnn_cell/cell_0/basic_lstm_cell/add_1_grad/tuple/control_dependency_1', 'gradients/rnn/while/multi_rnn_cell/cell_0/basic_lstm_cell/mul_grad/Shape', 'gradients/rnn/while/multi_rnn_cell/cell_0/basic_lstm_cell/mul_grad/Shape_1', 'gradients/rnn/while/multi_rnn_cell/cell_0/basic_lstm_cell/mul_grad/BroadcastGradientArgs/f_acc', 'gradients/rnn/while/multi_rnn_cell/cell_0/basic_lstm_cell/mul_grad/BroadcastGradientArgs/RefEnter', 'gradients/rnn/while/multi_rnn_cell/cell_0/basic_lstm_cell/mul_grad/BroadcastGradientArgs/StackPush', 'gradients/rnn/while/multi_rnn_cell/cell_0/basic_lstm_cell/mul_grad/BroadcastGradientArgs/StackPop/RefEnter', 'gradients/rnn/while/multi_rnn_cell/cell_0/basic_lstm_cell/mul_grad/BroadcastGradientArgs/StackPop', 'gradients/rnn/while/multi_rnn_cell/cell_0/basic_lstm_cell/mul_grad/BroadcastGradientArgs/f_acc_1', 'gradients/rnn/while/multi_rnn_cell/cell_0/basic_lstm_cell/mul_grad/BroadcastGradientArgs/RefEnter_1', 'gradients/rnn/while/multi_rnn_cell/cell_0/basic_lstm_cell/mul_grad/BroadcastGradientArgs/StackPush_1', 'gradients/rnn/while/multi_rnn_cell/cell_0/basic_lstm_cell/mul_grad/BroadcastGradientArgs/StackPop_1/RefEnter', 'gradients/rnn/while/multi_rnn_cell/cell_0/basic_lstm_cell/mul_grad/BroadcastGradientArgs/StackPop_1', 'gradients/rnn/while/multi_rnn_cell/cell_0/basic_lstm_cell/mul_grad/BroadcastGradientArgs', 'gradients/rnn/while/multi_rnn_cell/cell_0/basic_lstm_cell/mul_grad/mul/f_acc', 'gradients/rnn/while/multi_rnn_cell/cell_0/basic_lstm_cell/mul_grad/mul/RefEnter', 'gradients/rnn/while/multi_rnn_cell/cell_0/basic_lstm_cell/mul_grad/mul/StackPush', 'gradients/rnn/while/multi_rnn_cell/cell_0/basic_lstm_cell/mul_grad/mul/StackPop/RefEnter', 'gradients/rnn/while/multi_rnn_cell/cell_0/basic_lstm_cell/mul_grad/mul/StackPop', 'gradients/rnn/while/multi_rnn_cell/cell_0/basic_lstm_cell/mul_grad/mul', 'gradients/rnn/while/multi_rnn_cell/cell_0/basic_lstm_cell/mul_grad/Sum', 'gradients/rnn/while/multi_rnn_cell/cell_0/basic_lstm_cell/mul_grad/Reshape', 'gradients/rnn/while/multi_rnn_cell/cell_0/basic_lstm_cell/mul_grad/mul_1/f_acc', 'gradients/rnn/while/multi_rnn_cell/cell_0/basic_lstm_cell/mul_grad/mul_1/RefEnter', 'gradients/rnn/while/multi_rnn_cell/cell_0/basic_lstm_cell/mul_grad/mul_1/StackPush', 'gradients/rnn/while/multi_rnn_cell/cell_0/basic_lstm_cell/mul_grad/mul_1/StackPop/RefEnter', 'gradients/rnn/while/multi_rnn_cell/cell_0/basic_lstm_cell/mul_grad/mul_1/StackPop', 'gradients/rnn/while/multi_rnn_cell/cell_0/basic_lstm_cell/mul_grad/mul_1', 'gradients/rnn/while/multi_rnn_cell/cell_0/basic_lstm_cell/mul_grad/Sum_1', 'gradients/rnn/while/multi_rnn_cell/cell_0/basic_lstm_cell/mul_grad/Reshape_1', 'gradients/rnn/while/multi_rnn_cell/cell_0/basic_lstm_cell/mul_grad/tuple/group_deps', 'gradients/rnn/while/multi_rnn_cell/cell_0/basic_lstm_cell/mul_grad/tuple/control_dependency', 'gradients/rnn/while/multi_rnn_cell/cell_0/basic_lstm_cell/mul_grad/tuple/control_dependency_1', 'gradients/rnn/while/multi_rnn_cell/cell_0/basic_lstm_cell/mul_1_grad/Shape', 'gradients/rnn/while/multi_rnn_cell/cell_0/basic_lstm_cell/mul_1_grad/Shape_1', 'gradients/rnn/while/multi_rnn_cell/cell_0/basic_lstm_cell/mul_1_grad/BroadcastGradientArgs/f_acc', 'gradients/rnn/while/multi_rnn_cell/cell_0/basic_lstm_cell/mul_1_grad/BroadcastGradientArgs/RefEnter', 'gradients/rnn/while/multi_rnn_cell/cell_0/basic_lstm_cell/mul_1_grad/BroadcastGradientArgs/StackPush', 'gradients/rnn/while/multi_rnn_cell/cell_0/basic_lstm_cell/mul_1_grad/BroadcastGradientArgs/StackPop/RefEnter', 'gradients/rnn/while/multi_rnn_cell/cell_0/basic_lstm_cell/mul_1_grad/BroadcastGradientArgs/StackPop', 'gradients/rnn/while/multi_rnn_cell/cell_0/basic_lstm_cell/mul_1_grad/BroadcastGradientArgs/f_acc_1', 'gradients/rnn/while/multi_rnn_cell/cell_0/basic_lstm_cell/mul_1_grad/BroadcastGradientArgs/RefEnter_1', 'gradients/rnn/while/multi_rnn_cell/cell_0/basic_lstm_cell/mul_1_grad/BroadcastGradientArgs/StackPush_1', 'gradients/rnn/while/multi_rnn_cell/cell_0/basic_lstm_cell/mul_1_grad/BroadcastGradientArgs/StackPop_1/RefEnter', 'gradients/rnn/while/multi_rnn_cell/cell_0/basic_lstm_cell/mul_1_grad/BroadcastGradientArgs/StackPop_1', 'gradients/rnn/while/multi_rnn_cell/cell_0/basic_lstm_cell/mul_1_grad/BroadcastGradientArgs', 'gradients/rnn/while/multi_rnn_cell/cell_0/basic_lstm_cell/mul_1_grad/mul/f_acc', 'gradients/rnn/while/multi_rnn_cell/cell_0/basic_lstm_cell/mul_1_grad/mul/RefEnter', 'gradients/rnn/while/multi_rnn_cell/cell_0/basic_lstm_cell/mul_1_grad/mul/StackPush', 'gradients/rnn/while/multi_rnn_cell/cell_0/basic_lstm_cell/mul_1_grad/mul/StackPop/RefEnter', 'gradients/rnn/while/multi_rnn_cell/cell_0/basic_lstm_cell/mul_1_grad/mul/StackPop', 'gradients/rnn/while/multi_rnn_cell/cell_0/basic_lstm_cell/mul_1_grad/mul', 'gradients/rnn/while/multi_rnn_cell/cell_0/basic_lstm_cell/mul_1_grad/Sum', 'gradients/rnn/while/multi_rnn_cell/cell_0/basic_lstm_cell/mul_1_grad/Reshape', 'gradients/rnn/while/multi_rnn_cell/cell_0/basic_lstm_cell/mul_1_grad/mul_1/f_acc', 'gradients/rnn/while/multi_rnn_cell/cell_0/basic_lstm_cell/mul_1_grad/mul_1/RefEnter', 'gradients/rnn/while/multi_rnn_cell/cell_0/basic_lstm_cell/mul_1_grad/mul_1/StackPush', 'gradients/rnn/while/multi_rnn_cell/cell_0/basic_lstm_cell/mul_1_grad/mul_1/StackPop/RefEnter', 'gradients/rnn/while/multi_rnn_cell/cell_0/basic_lstm_cell/mul_1_grad/mul_1/StackPop', 'gradients/rnn/while/multi_rnn_cell/cell_0/basic_lstm_cell/mul_1_grad/mul_1', 'gradients/rnn/while/multi_rnn_cell/cell_0/basic_lstm_cell/mul_1_grad/Sum_1', 'gradients/rnn/while/multi_rnn_cell/cell_0/basic_lstm_cell/mul_1_grad/Reshape_1', 'gradients/rnn/while/multi_rnn_cell/cell_0/basic_lstm_cell/mul_1_grad/tuple/group_deps', 'gradients/rnn/while/multi_rnn_cell/cell_0/basic_lstm_cell/mul_1_grad/tuple/control_dependency', 'gradients/rnn/while/multi_rnn_cell/cell_0/basic_lstm_cell/mul_1_grad/tuple/control_dependency_1', 'gradients/rnn/while/multi_rnn_cell/cell_0/basic_lstm_cell/Sigmoid_grad/SigmoidGrad', 'gradients/rnn/while/multi_rnn_cell/cell_0/basic_lstm_cell/Sigmoid_1_grad/SigmoidGrad', 'gradients/rnn/while/multi_rnn_cell/cell_0/basic_lstm_cell/Tanh_grad/TanhGrad', 'gradients/rnn/while/Switch_2_grad_1/NextIteration', 'gradients/rnn/while/multi_rnn_cell/cell_0/basic_lstm_cell/add_grad/Shape', 'gradients/rnn/while/multi_rnn_cell/cell_0/basic_lstm_cell/add_grad/Shape_1', 'gradients/rnn/while/multi_rnn_cell/cell_0/basic_lstm_cell/add_grad/BroadcastGradientArgs/f_acc', 'gradients/rnn/while/multi_rnn_cell/cell_0/basic_lstm_cell/add_grad/BroadcastGradientArgs/RefEnter', 'gradients/rnn/while/multi_rnn_cell/cell_0/basic_lstm_cell/add_grad/BroadcastGradientArgs/StackPush', 'gradients/rnn/while/multi_rnn_cell/cell_0/basic_lstm_cell/add_grad/BroadcastGradientArgs/StackPop/RefEnter', 'gradients/rnn/while/multi_rnn_cell/cell_0/basic_lstm_cell/add_grad/BroadcastGradientArgs/StackPop', 'gradients/rnn/while/multi_rnn_cell/cell_0/basic_lstm_cell/add_grad/BroadcastGradientArgs', 'gradients/rnn/while/multi_rnn_cell/cell_0/basic_lstm_cell/add_grad/Sum', 'gradients/rnn/while/multi_rnn_cell/cell_0/basic_lstm_cell/add_grad/Reshape', 'gradients/rnn/while/multi_rnn_cell/cell_0/basic_lstm_cell/add_grad/Sum_1', 'gradients/rnn/while/multi_rnn_cell/cell_0/basic_lstm_cell/add_grad/Reshape_1', 'gradients/rnn/while/multi_rnn_cell/cell_0/basic_lstm_cell/add_grad/tuple/group_deps', 'gradients/rnn/while/multi_rnn_cell/cell_0/basic_lstm_cell/add_grad/tuple/control_dependency', 'gradients/rnn/while/multi_rnn_cell/cell_0/basic_lstm_cell/add_grad/tuple/control_dependency_1', 'gradients/rnn/while/multi_rnn_cell/cell_0/basic_lstm_cell/split_grad/concat/f_acc', 'gradients/rnn/while/multi_rnn_cell/cell_0/basic_lstm_cell/split_grad/concat/RefEnter', 'gradients/rnn/while/multi_rnn_cell/cell_0/basic_lstm_cell/split_grad/concat/StackPush', 'gradients/rnn/while/multi_rnn_cell/cell_0/basic_lstm_cell/split_grad/concat/StackPop/RefEnter', 'gradients/rnn/while/multi_rnn_cell/cell_0/basic_lstm_cell/split_grad/concat/StackPop', 'gradients/rnn/while/multi_rnn_cell/cell_0/basic_lstm_cell/split_grad/concat', 'gradients/rnn/while/multi_rnn_cell/cell_0/basic_lstm_cell/basic_lstm_cell_1/BiasAdd_grad/BiasAddGrad', 'gradients/rnn/while/multi_rnn_cell/cell_0/basic_lstm_cell/basic_lstm_cell_1/BiasAdd_grad/tuple/group_deps', 'gradients/rnn/while/multi_rnn_cell/cell_0/basic_lstm_cell/basic_lstm_cell_1/BiasAdd_grad/tuple/control_dependency', 'gradients/rnn/while/multi_rnn_cell/cell_0/basic_lstm_cell/basic_lstm_cell_1/BiasAdd_grad/tuple/control_dependency_1', 'gradients/rnn/while/multi_rnn_cell/cell_0/basic_lstm_cell/basic_lstm_cell_1/MatMul_grad/MatMul/Enter', 'gradients/rnn/while/multi_rnn_cell/cell_0/basic_lstm_cell/basic_lstm_cell_1/MatMul_grad/MatMul', 'gradients/rnn/while/multi_rnn_cell/cell_0/basic_lstm_cell/basic_lstm_cell_1/MatMul_grad/MatMul_1/f_acc', 'gradients/rnn/while/multi_rnn_cell/cell_0/basic_lstm_cell/basic_lstm_cell_1/MatMul_grad/MatMul_1/RefEnter', 'gradients/rnn/while/multi_rnn_cell/cell_0/basic_lstm_cell/basic_lstm_cell_1/MatMul_grad/MatMul_1/StackPush', 'gradients/rnn/while/multi_rnn_cell/cell_0/basic_lstm_cell/basic_lstm_cell_1/MatMul_grad/MatMul_1/StackPop/RefEnter', 'gradients/rnn/while/multi_rnn_cell/cell_0/basic_lstm_cell/basic_lstm_cell_1/MatMul_grad/MatMul_1/StackPop', 'gradients/rnn/while/multi_rnn_cell/cell_0/basic_lstm_cell/basic_lstm_cell_1/MatMul_grad/MatMul_1', 'gradients/rnn/while/multi_rnn_cell/cell_0/basic_lstm_cell/basic_lstm_cell_1/MatMul_grad/tuple/group_deps', 'gradients/rnn/while/multi_rnn_cell/cell_0/basic_lstm_cell/basic_lstm_cell_1/MatMul_grad/tuple/control_dependency', 'gradients/rnn/while/multi_rnn_cell/cell_0/basic_lstm_cell/basic_lstm_cell_1/MatMul_grad/tuple/control_dependency_1', 'gradients/rnn/while/multi_rnn_cell/cell_0/basic_lstm_cell/basic_lstm_cell_1/BiasAdd/Enter_grad/b_acc', 'gradients/rnn/while/multi_rnn_cell/cell_0/basic_lstm_cell/basic_lstm_cell_1/BiasAdd/Enter_grad/b_acc_1', 'gradients/rnn/while/multi_rnn_cell/cell_0/basic_lstm_cell/basic_lstm_cell_1/BiasAdd/Enter_grad/b_acc_2', 'gradients/rnn/while/multi_rnn_cell/cell_0/basic_lstm_cell/basic_lstm_cell_1/BiasAdd/Enter_grad/Switch', 'gradients/rnn/while/multi_rnn_cell/cell_0/basic_lstm_cell/basic_lstm_cell_1/BiasAdd/Enter_grad/Add', 'gradients/rnn/while/multi_rnn_cell/cell_0/basic_lstm_cell/basic_lstm_cell_1/BiasAdd/Enter_grad/NextIteration', 'gradients/rnn/while/multi_rnn_cell/cell_0/basic_lstm_cell/basic_lstm_cell_1/BiasAdd/Enter_grad/b_acc_3', 'gradients/rnn/while/multi_rnn_cell/cell_0/basic_lstm_cell/basic_lstm_cell_1/concat_grad/Rank', 'gradients/rnn/while/multi_rnn_cell/cell_0/basic_lstm_cell/basic_lstm_cell_1/concat_grad/mod/f_acc', 'gradients/rnn/while/multi_rnn_cell/cell_0/basic_lstm_cell/basic_lstm_cell_1/concat_grad/mod/RefEnter', 'gradients/rnn/while/multi_rnn_cell/cell_0/basic_lstm_cell/basic_lstm_cell_1/concat_grad/mod/StackPush', 'gradients/rnn/while/multi_rnn_cell/cell_0/basic_lstm_cell/basic_lstm_cell_1/concat_grad/mod/StackPop/RefEnter', 'gradients/rnn/while/multi_rnn_cell/cell_0/basic_lstm_cell/basic_lstm_cell_1/concat_grad/mod/StackPop', 'gradients/rnn/while/multi_rnn_cell/cell_0/basic_lstm_cell/basic_lstm_cell_1/concat_grad/mod', 'gradients/rnn/while/multi_rnn_cell/cell_0/basic_lstm_cell/basic_lstm_cell_1/concat_grad/Shape', 'gradients/rnn/while/multi_rnn_cell/cell_0/basic_lstm_cell/basic_lstm_cell_1/concat_grad/ShapeN/f_acc', 'gradients/rnn/while/multi_rnn_cell/cell_0/basic_lstm_cell/basic_lstm_cell_1/concat_grad/ShapeN/RefEnter', 'gradients/rnn/while/multi_rnn_cell/cell_0/basic_lstm_cell/basic_lstm_cell_1/concat_grad/ShapeN/StackPush', 'gradients/rnn/while/multi_rnn_cell/cell_0/basic_lstm_cell/basic_lstm_cell_1/concat_grad/ShapeN/StackPop/RefEnter', 'gradients/rnn/while/multi_rnn_cell/cell_0/basic_lstm_cell/basic_lstm_cell_1/concat_grad/ShapeN/StackPop', 'gradients/rnn/while/multi_rnn_cell/cell_0/basic_lstm_cell/basic_lstm_cell_1/concat_grad/ShapeN/f_acc_1', 'gradients/rnn/while/multi_rnn_cell/cell_0/basic_lstm_cell/basic_lstm_cell_1/concat_grad/ShapeN/RefEnter_1', 'gradients/rnn/while/multi_rnn_cell/cell_0/basic_lstm_cell/basic_lstm_cell_1/concat_grad/ShapeN/StackPush_1', 'gradients/rnn/while/multi_rnn_cell/cell_0/basic_lstm_cell/basic_lstm_cell_1/concat_grad/ShapeN/StackPop_1/RefEnter', 'gradients/rnn/while/multi_rnn_cell/cell_0/basic_lstm_cell/basic_lstm_cell_1/concat_grad/ShapeN/StackPop_1', 'gradients/rnn/while/multi_rnn_cell/cell_0/basic_lstm_cell/basic_lstm_cell_1/concat_grad/ShapeN', 'gradients/rnn/while/multi_rnn_cell/cell_0/basic_lstm_cell/basic_lstm_cell_1/concat_grad/ConcatOffset', 'gradients/rnn/while/multi_rnn_cell/cell_0/basic_lstm_cell/basic_lstm_cell_1/concat_grad/Slice', 'gradients/rnn/while/multi_rnn_cell/cell_0/basic_lstm_cell/basic_lstm_cell_1/concat_grad/Slice_1', 'gradients/rnn/while/multi_rnn_cell/cell_0/basic_lstm_cell/basic_lstm_cell_1/concat_grad/tuple/group_deps', 'gradients/rnn/while/multi_rnn_cell/cell_0/basic_lstm_cell/basic_lstm_cell_1/concat_grad/tuple/control_dependency', 'gradients/rnn/while/multi_rnn_cell/cell_0/basic_lstm_cell/basic_lstm_cell_1/concat_grad/tuple/control_dependency_1', 'gradients/rnn/while/multi_rnn_cell/cell_0/basic_lstm_cell/basic_lstm_cell_1/MatMul/Enter_grad/b_acc', 'gradients/rnn/while/multi_rnn_cell/cell_0/basic_lstm_cell/basic_lstm_cell_1/MatMul/Enter_grad/b_acc_1', 'gradients/rnn/while/multi_rnn_cell/cell_0/basic_lstm_cell/basic_lstm_cell_1/MatMul/Enter_grad/b_acc_2', 'gradients/rnn/while/multi_rnn_cell/cell_0/basic_lstm_cell/basic_lstm_cell_1/MatMul/Enter_grad/Switch', 'gradients/rnn/while/multi_rnn_cell/cell_0/basic_lstm_cell/basic_lstm_cell_1/MatMul/Enter_grad/Add', 'gradients/rnn/while/multi_rnn_cell/cell_0/basic_lstm_cell/basic_lstm_cell_1/MatMul/Enter_grad/NextIteration', 'gradients/rnn/while/multi_rnn_cell/cell_0/basic_lstm_cell/basic_lstm_cell_1/MatMul/Enter_grad/b_acc_3', 'gradients/rnn/while/TensorArrayReadV3_grad/TensorArrayGrad/TensorArrayGradV3/Enter', 'gradients/rnn/while/TensorArrayReadV3_grad/TensorArrayGrad/TensorArrayGradV3/Enter_1', 'gradients/rnn/while/TensorArrayReadV3_grad/TensorArrayGrad/TensorArrayGradV3', 'gradients/rnn/while/TensorArrayReadV3_grad/TensorArrayGrad/gradient_flow', 'gradients/rnn/while/TensorArrayReadV3_grad/TensorArrayWrite/TensorArrayWriteV3', 'gradients/rnn/while/TensorArrayReadV3/Enter_1_grad/b_acc', 'gradients/rnn/while/TensorArrayReadV3/Enter_1_grad/b_acc_1', 'gradients/rnn/while/TensorArrayReadV3/Enter_1_grad/b_acc_2', 'gradients/rnn/while/TensorArrayReadV3/Enter_1_grad/Switch', 'gradients/rnn/while/TensorArrayReadV3/Enter_1_grad/Add', 'gradients/rnn/while/TensorArrayReadV3/Enter_1_grad/NextIteration', 'gradients/rnn/while/TensorArrayReadV3/Enter_1_grad/b_acc_3', 'gradients/rnn/while/Switch_3_grad_1/NextIteration', 'gradients/rnn/TensorArrayUnstack/TensorArrayScatter/TensorArrayScatterV3_grad/TensorArrayGrad/TensorArrayGradV3', 'gradients/rnn/TensorArrayUnstack/TensorArrayScatter/TensorArrayScatterV3_grad/TensorArrayGrad/gradient_flow', 'gradients/rnn/TensorArrayUnstack/TensorArrayScatter/TensorArrayScatterV3_grad/TensorArrayGatherV3', 'gradients/rnn/TensorArrayUnstack/TensorArrayScatter/TensorArrayScatterV3_grad/tuple/group_deps', 'gradients/rnn/TensorArrayUnstack/TensorArrayScatter/TensorArrayScatterV3_grad/tuple/control_dependency', 'gradients/rnn/TensorArrayUnstack/TensorArrayScatter/TensorArrayScatterV3_grad/tuple/control_dependency_1', 'gradients/transpose_grad/InvertPermutation', 'gradients/transpose_grad/transpose', 'gradients/EmbedSequence/embedding_lookup_grad/Shape', 'gradients/EmbedSequence/embedding_lookup_grad/Size', 'gradients/EmbedSequence/embedding_lookup_grad/ExpandDims/dim', 'gradients/EmbedSequence/embedding_lookup_grad/ExpandDims', 'gradients/EmbedSequence/embedding_lookup_grad/strided_slice/stack', 'gradients/EmbedSequence/embedding_lookup_grad/strided_slice/stack_1', 'gradients/EmbedSequence/embedding_lookup_grad/strided_slice/stack_2', 'gradients/EmbedSequence/embedding_lookup_grad/strided_slice', 'gradients/EmbedSequence/embedding_lookup_grad/concat/axis', 'gradients/EmbedSequence/embedding_lookup_grad/concat', 'gradients/EmbedSequence/embedding_lookup_grad/Reshape', 'gradients/EmbedSequence/embedding_lookup_grad/Reshape_1', 'clip_by_value/strided_slice/stack', 'clip_by_value/strided_slice/stack_1', 'clip_by_value/strided_slice/stack_2', 'clip_by_value/strided_slice', 'clip_by_value/t', 'clip_by_value/Minimum/y', 'clip_by_value/Minimum', 'clip_by_value/y', 'clip_by_value', 'clip_by_value_1/Minimum/y', 'clip_by_value_1/Minimum', 'clip_by_value_1/y', 'clip_by_value_1', 'clip_by_value_2/Minimum/y', 'clip_by_value_2/Minimum', 'clip_by_value_2/y', 'clip_by_value_2', 'clip_by_value_3/Minimum/y', 'clip_by_value_3/Minimum', 'clip_by_value_3/y', 'clip_by_value_3', 'clip_by_value_4/Minimum/y', 'clip_by_value_4/Minimum', 'clip_by_value_4/y', 'clip_by_value_4', 'beta1_power/initial_value', 'beta1_power', 'beta1_power/Assign', 'beta1_power/read', 'beta2_power/initial_value', 'beta2_power', 'beta2_power/Assign', 'beta2_power/read', 'EmbedSequence/embeddings/Adam/Initializer/Const', 'EmbedSequence/embeddings/Adam', 'EmbedSequence/embeddings/Adam/Assign', 'EmbedSequence/embeddings/Adam/read', 'EmbedSequence/embeddings/Adam_1/Initializer/Const', 'EmbedSequence/embeddings/Adam_1', 'EmbedSequence/embeddings/Adam_1/Assign', 'EmbedSequence/embeddings/Adam_1/read', 'rnn/multi_rnn_cell/cell_0/basic_lstm_cell/weights/Adam/Initializer/Const', 'rnn/multi_rnn_cell/cell_0/basic_lstm_cell/weights/Adam', 'rnn/multi_rnn_cell/cell_0/basic_lstm_cell/weights/Adam/Assign', 'rnn/multi_rnn_cell/cell_0/basic_lstm_cell/weights/Adam/read', 'rnn/multi_rnn_cell/cell_0/basic_lstm_cell/weights/Adam_1/Initializer/Const', 'rnn/multi_rnn_cell/cell_0/basic_lstm_cell/weights/Adam_1', 'rnn/multi_rnn_cell/cell_0/basic_lstm_cell/weights/Adam_1/Assign', 'rnn/multi_rnn_cell/cell_0/basic_lstm_cell/weights/Adam_1/read', 'rnn/multi_rnn_cell/cell_0/basic_lstm_cell/biases/Adam/Initializer/Const', 'rnn/multi_rnn_cell/cell_0/basic_lstm_cell/biases/Adam', 'rnn/multi_rnn_cell/cell_0/basic_lstm_cell/biases/Adam/Assign', 'rnn/multi_rnn_cell/cell_0/basic_lstm_cell/biases/Adam/read', 'rnn/multi_rnn_cell/cell_0/basic_lstm_cell/biases/Adam_1/Initializer/Const', 'rnn/multi_rnn_cell/cell_0/basic_lstm_cell/biases/Adam_1', 'rnn/multi_rnn_cell/cell_0/basic_lstm_cell/biases/Adam_1/Assign', 'rnn/multi_rnn_cell/cell_0/basic_lstm_cell/biases/Adam_1/read', 'fully_connected/weights/Adam/Initializer/Const', 'fully_connected/weights/Adam', 'fully_connected/weights/Adam/Assign', 'fully_connected/weights/Adam/read', 'fully_connected/weights/Adam_1/Initializer/Const', 'fully_connected/weights/Adam_1', 'fully_connected/weights/Adam_1/Assign', 'fully_connected/weights/Adam_1/read', 'fully_connected/biases/Adam/Initializer/Const', 'fully_connected/biases/Adam', 'fully_connected/biases/Adam/Assign', 'fully_connected/biases/Adam/read', 'fully_connected/biases/Adam_1/Initializer/Const', 'fully_connected/biases/Adam_1', 'fully_connected/biases/Adam_1/Assign', 'fully_connected/biases/Adam_1/read', 'Adam/beta1', 'Adam/beta2', 'Adam/epsilon', 'Adam/update_EmbedSequence/embeddings/ApplyAdam', 'Adam/update_rnn/multi_rnn_cell/cell_0/basic_lstm_cell/weights/ApplyAdam', 'Adam/update_rnn/multi_rnn_cell/cell_0/basic_lstm_cell/biases/ApplyAdam', 'Adam/update_fully_connected/weights/ApplyAdam', 'Adam/update_fully_connected/biases/ApplyAdam', 'Adam/mul', 'Adam/Assign', 'Adam/mul_1', 'Adam/Assign_1', 'Adam', 'init', 'save/Const', 'save/SaveV2/tensor_names', 'save/SaveV2/shape_and_slices', 'save/SaveV2', 'save/control_dependency', 'save/RestoreV2/tensor_names', 'save/RestoreV2/shape_and_slices', 'save/RestoreV2', 'save/Assign', 'save/RestoreV2_1/tensor_names', 'save/RestoreV2_1/shape_and_slices', 'save/RestoreV2_1', 'save/Assign_1', 'save/RestoreV2_2/tensor_names', 'save/RestoreV2_2/shape_and_slices', 'save/RestoreV2_2', 'save/Assign_2', 'save/RestoreV2_3/tensor_names', 'save/RestoreV2_3/shape_and_slices', 'save/RestoreV2_3', 'save/Assign_3', 'save/RestoreV2_4/tensor_names', 'save/RestoreV2_4/shape_and_slices', 'save/RestoreV2_4', 'save/Assign_4', 'save/RestoreV2_5/tensor_names', 'save/RestoreV2_5/shape_and_slices', 'save/RestoreV2_5', 'save/Assign_5', 'save/RestoreV2_6/tensor_names', 'save/RestoreV2_6/shape_and_slices', 'save/RestoreV2_6', 'save/Assign_6', 'save/RestoreV2_7/tensor_names', 'save/RestoreV2_7/shape_and_slices', 'save/RestoreV2_7', 'save/Assign_7', 'save/RestoreV2_8/tensor_names', 'save/RestoreV2_8/shape_and_slices', 'save/RestoreV2_8', 'save/Assign_8', 'save/RestoreV2_9/tensor_names', 'save/RestoreV2_9/shape_and_slices', 'save/RestoreV2_9', 'save/Assign_9', 'save/RestoreV2_10/tensor_names', 'save/RestoreV2_10/shape_and_slices', 'save/RestoreV2_10', 'save/Assign_10', 'save/RestoreV2_11/tensor_names', 'save/RestoreV2_11/shape_and_slices', 'save/RestoreV2_11', 'save/Assign_11', 'save/RestoreV2_12/tensor_names', 'save/RestoreV2_12/shape_and_slices', 'save/RestoreV2_12', 'save/Assign_12', 'save/RestoreV2_13/tensor_names', 'save/RestoreV2_13/shape_and_slices', 'save/RestoreV2_13', 'save/Assign_13', 'save/RestoreV2_14/tensor_names', 'save/RestoreV2_14/shape_and_slices', 'save/RestoreV2_14', 'save/Assign_14', 'save/RestoreV2_15/tensor_names', 'save/RestoreV2_15/shape_and_slices', 'save/RestoreV2_15', 'save/Assign_15', 'save/RestoreV2_16/tensor_names', 'save/RestoreV2_16/shape_and_slices', 'save/RestoreV2_16', 'save/Assign_16', 'save/restore_all']\n"
     ]
    },
    {
     "name": "stdout",
     "output_type": "stream",
     "text": [
      "moe_szyslak:(into phone) gotcha ya down for forty bucks. good luck your eminence.\n",
      "moe_szyslak: sorry, homer, you can't really picture you without it.\n",
      "lenny_leonard:(helpful) i'm a crony.\n",
      "carl_carlson: i'd say acquaintance.\n",
      "sam: call me sympathizer.\n",
      "bumblebee_man: compadre.\n",
      "kearney_zzyzwicz: associate.\n",
      "dr. _babcock: are you down, i'm going to pull out your eyes and shove 'em up your pants so you can watch me kick the crap out of you. okay? then i'm going to use your tongue to paint my boat.\n",
      "waylon_smithers: uh, hello. you had a\" help wanted\"?\n",
      "moe_szyslak: yeah, i just had a presidential election stolen from me. but i moved on, and i have something to change his life.\n",
      "lenny_leonard: hm...\n",
      "duffman: hey, moe, uh, would you hand me my keys?\n",
      "lenny_leonard: hey, hey, hey, hey maggie!\n",
      "moe_szyslak: hey, hey, hey, hey, hey, hey, hey, hey, hey,\n"
     ]
    }
   ],
   "source": [
    "gen_length = 200\n",
    "# homer_simpson, moe_szyslak, or Barney_Gumble\n",
    "prime_word = 'moe_szyslak'\n",
    "\n",
    "\"\"\"\n",
    "DON'T MODIFY ANYTHING IN THIS CELL THAT IS BELOW THIS LINE\n",
    "\"\"\"\n",
    "loaded_graph = tf.Graph()\n",
    "with tf.Session(graph=loaded_graph) as sess:\n",
    "    # Load saved model\n",
    "    loader = tf.train.import_meta_graph(load_dir + '.meta')\n",
    "    loader.restore(sess, load_dir)\n",
    "\n",
    "    # Get Tensors from loaded model\n",
    "    input_text, initial_state, final_state, probs = get_tensors(loaded_graph)\n",
    "\n",
    "    # Sentences generation setup\n",
    "    gen_sentences = [prime_word + ':']\n",
    "    prev_state = sess.run(initial_state, {input_text: np.array([[1]])})\n",
    "\n",
    "    # Generate sentences\n",
    "    for n in range(gen_length):\n",
    "        # Dynamic Input\n",
    "        dyn_input = [[vocab_to_int[word] for word in gen_sentences[-seq_length:]]]\n",
    "        dyn_seq_length = len(dyn_input[0])\n",
    "\n",
    "        # Get Prediction\n",
    "        probabilities, prev_state = sess.run(\n",
    "            [probs, final_state],\n",
    "            {input_text: dyn_input, initial_state: prev_state})\n",
    "        \n",
    "        pred_word = pick_word(probabilities[dyn_seq_length-1], int_to_vocab)\n",
    "\n",
    "        gen_sentences.append(pred_word)\n",
    "    \n",
    "    # Remove tokens\n",
    "    tv_script = ' '.join(gen_sentences)\n",
    "    for key, token in token_dict.items():\n",
    "        ending = ' ' if key in ['\\n', '(', '\"'] else ''\n",
    "        tv_script = tv_script.replace(' ' + token.lower(), key)\n",
    "    tv_script = tv_script.replace('\\n ', '\\n')\n",
    "    tv_script = tv_script.replace('( ', '(')\n",
    "        \n",
    "    print(tv_script)"
   ]
  },
  {
   "cell_type": "markdown",
   "metadata": {},
   "source": [
    "# The TV Script is Nonsensical\n",
    "It's ok if the TV script doesn't make any sense.  We trained on less than a megabyte of text.  In order to get good results, you'll have to use a smaller vocabulary or get more data.  Luckly there's more data!  As we mentioned in the begging of this project, this is a subset of [another dataset](https://www.kaggle.com/wcukierski/the-simpsons-by-the-data).  We didn't have you train on all the data, because that would take too long.  However, you are free to train your neural network on all the data.  After you complete the project, of course.\n",
    "# Submitting This Project\n",
    "When submitting this project, make sure to run all the cells before saving the notebook. Save the notebook file as \"dlnd_tv_script_generation.ipynb\" and save it as a HTML file under \"File\" -> \"Download as\". Include the \"helper.py\" and \"problem_unittests.py\" files in your submission."
   ]
  }
 ],
 "metadata": {
  "kernelspec": {
   "display_name": "Python 3",
   "language": "python",
   "name": "python3"
  },
  "language_info": {
   "codemirror_mode": {
    "name": "ipython",
    "version": 3
   },
   "file_extension": ".py",
   "mimetype": "text/x-python",
   "name": "python",
   "nbconvert_exporter": "python",
   "pygments_lexer": "ipython3",
   "version": "3.5.3"
  },
  "widgets": {
   "state": {},
   "version": "1.1.2"
  }
 },
 "nbformat": 4,
 "nbformat_minor": 1
}
